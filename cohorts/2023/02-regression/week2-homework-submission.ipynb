{
 "cells": [
  {
   "cell_type": "markdown",
   "id": "0d7c0a58",
   "metadata": {},
   "source": [
    "## Week 2 Homework Submission\n"
   ]
  },
  {
   "cell_type": "code",
   "execution_count": 10,
   "id": "54350a55",
   "metadata": {
    "scrolled": true
   },
   "outputs": [],
   "source": [
    "import numpy as np\n",
    "import pandas as pd\n",
    "import matplotlib.pyplot as plt\n",
    "import seaborn as sns\n",
    "\n",
    "%matplotlib inline"
   ]
  },
  {
   "cell_type": "markdown",
   "id": "025411da",
   "metadata": {},
   "source": [
    "## EDA and Data Prep\n",
    "- Load the data\n",
    "- Plot median-house-value, does it have a long tail?"
   ]
  },
  {
   "cell_type": "code",
   "execution_count": 1,
   "id": "7f3d47ba",
   "metadata": {},
   "outputs": [],
   "source": [
    "data = 'https://raw.githubusercontent.com/alexeygrigorev/datasets/master/housing.csv'"
   ]
  },
  {
   "cell_type": "code",
   "execution_count": 2,
   "id": "d8b0ccc7",
   "metadata": {},
   "outputs": [
    {
     "name": "stdout",
     "output_type": "stream",
     "text": [
      "--2023-09-24 18:23:49--  https://raw.githubusercontent.com/alexeygrigorev/datasets/master/housing.csv\n",
      "Resolving raw.githubusercontent.com (raw.githubusercontent.com)... 185.199.110.133, 185.199.109.133, 185.199.108.133, ...\n",
      "Connecting to raw.githubusercontent.com (raw.githubusercontent.com)|185.199.110.133|:443... connected.\n",
      "HTTP request sent, awaiting response... 200 OK\n",
      "Length: 1423529 (1.4M) [text/plain]\n",
      "Saving to: ‘housing.csv’\n",
      "\n",
      "housing.csv         100%[===================>]   1.36M  --.-KB/s    in 0.03s   \n",
      "\n",
      "2023-09-24 18:23:49 (45.8 MB/s) - ‘housing.csv’ saved [1423529/1423529]\n",
      "\n"
     ]
    }
   ],
   "source": [
    "!wget $data "
   ]
  },
  {
   "cell_type": "code",
   "execution_count": 13,
   "id": "10ddaebc",
   "metadata": {},
   "outputs": [
    {
     "data": {
      "text/html": [
       "<div>\n",
       "<style scoped>\n",
       "    .dataframe tbody tr th:only-of-type {\n",
       "        vertical-align: middle;\n",
       "    }\n",
       "\n",
       "    .dataframe tbody tr th {\n",
       "        vertical-align: top;\n",
       "    }\n",
       "\n",
       "    .dataframe thead th {\n",
       "        text-align: right;\n",
       "    }\n",
       "</style>\n",
       "<table border=\"1\" class=\"dataframe\">\n",
       "  <thead>\n",
       "    <tr style=\"text-align: right;\">\n",
       "      <th></th>\n",
       "      <th>longitude</th>\n",
       "      <th>latitude</th>\n",
       "      <th>housing_median_age</th>\n",
       "      <th>total_rooms</th>\n",
       "      <th>total_bedrooms</th>\n",
       "      <th>population</th>\n",
       "      <th>households</th>\n",
       "      <th>median_income</th>\n",
       "      <th>median_house_value</th>\n",
       "      <th>ocean_proximity</th>\n",
       "    </tr>\n",
       "  </thead>\n",
       "  <tbody>\n",
       "    <tr>\n",
       "      <th>0</th>\n",
       "      <td>-122.23</td>\n",
       "      <td>37.88</td>\n",
       "      <td>41.0</td>\n",
       "      <td>880.0</td>\n",
       "      <td>129.0</td>\n",
       "      <td>322.0</td>\n",
       "      <td>126.0</td>\n",
       "      <td>8.3252</td>\n",
       "      <td>452600.0</td>\n",
       "      <td>NEAR BAY</td>\n",
       "    </tr>\n",
       "    <tr>\n",
       "      <th>1</th>\n",
       "      <td>-122.22</td>\n",
       "      <td>37.86</td>\n",
       "      <td>21.0</td>\n",
       "      <td>7099.0</td>\n",
       "      <td>1106.0</td>\n",
       "      <td>2401.0</td>\n",
       "      <td>1138.0</td>\n",
       "      <td>8.3014</td>\n",
       "      <td>358500.0</td>\n",
       "      <td>NEAR BAY</td>\n",
       "    </tr>\n",
       "    <tr>\n",
       "      <th>2</th>\n",
       "      <td>-122.24</td>\n",
       "      <td>37.85</td>\n",
       "      <td>52.0</td>\n",
       "      <td>1467.0</td>\n",
       "      <td>190.0</td>\n",
       "      <td>496.0</td>\n",
       "      <td>177.0</td>\n",
       "      <td>7.2574</td>\n",
       "      <td>352100.0</td>\n",
       "      <td>NEAR BAY</td>\n",
       "    </tr>\n",
       "    <tr>\n",
       "      <th>3</th>\n",
       "      <td>-122.25</td>\n",
       "      <td>37.85</td>\n",
       "      <td>52.0</td>\n",
       "      <td>1274.0</td>\n",
       "      <td>235.0</td>\n",
       "      <td>558.0</td>\n",
       "      <td>219.0</td>\n",
       "      <td>5.6431</td>\n",
       "      <td>341300.0</td>\n",
       "      <td>NEAR BAY</td>\n",
       "    </tr>\n",
       "    <tr>\n",
       "      <th>4</th>\n",
       "      <td>-122.25</td>\n",
       "      <td>37.85</td>\n",
       "      <td>52.0</td>\n",
       "      <td>1627.0</td>\n",
       "      <td>280.0</td>\n",
       "      <td>565.0</td>\n",
       "      <td>259.0</td>\n",
       "      <td>3.8462</td>\n",
       "      <td>342200.0</td>\n",
       "      <td>NEAR BAY</td>\n",
       "    </tr>\n",
       "  </tbody>\n",
       "</table>\n",
       "</div>"
      ],
      "text/plain": [
       "   longitude  latitude  housing_median_age  total_rooms  total_bedrooms  \\\n",
       "0    -122.23     37.88                41.0        880.0           129.0   \n",
       "1    -122.22     37.86                21.0       7099.0          1106.0   \n",
       "2    -122.24     37.85                52.0       1467.0           190.0   \n",
       "3    -122.25     37.85                52.0       1274.0           235.0   \n",
       "4    -122.25     37.85                52.0       1627.0           280.0   \n",
       "\n",
       "   population  households  median_income  median_house_value ocean_proximity  \n",
       "0       322.0       126.0         8.3252            452600.0        NEAR BAY  \n",
       "1      2401.0      1138.0         8.3014            358500.0        NEAR BAY  \n",
       "2       496.0       177.0         7.2574            352100.0        NEAR BAY  \n",
       "3       558.0       219.0         5.6431            341300.0        NEAR BAY  \n",
       "4       565.0       259.0         3.8462            342200.0        NEAR BAY  "
      ]
     },
     "execution_count": 13,
     "metadata": {},
     "output_type": "execute_result"
    }
   ],
   "source": [
    "df = pd.read_csv('housing.csv')\n",
    "df.head()"
   ]
  },
  {
   "cell_type": "code",
   "execution_count": 11,
   "id": "e79e0cc5-2540-4181-9db6-5d457e1e0eb7",
   "metadata": {},
   "outputs": [
    {
     "name": "stderr",
     "output_type": "stream",
     "text": [
      "/Users/waleed/Library/Caches/pypoetry/virtualenvs/machine-learning-zoomcamp-eZ02cD9b-py3.11/lib/python3.11/site-packages/seaborn/_oldcore.py:1498: FutureWarning: is_categorical_dtype is deprecated and will be removed in a future version. Use isinstance(dtype, CategoricalDtype) instead\n",
      "  if pd.api.types.is_categorical_dtype(vector):\n",
      "/Users/waleed/Library/Caches/pypoetry/virtualenvs/machine-learning-zoomcamp-eZ02cD9b-py3.11/lib/python3.11/site-packages/seaborn/_oldcore.py:1119: FutureWarning: use_inf_as_na option is deprecated and will be removed in a future version. Convert inf values to NaN before operating instead.\n",
      "  with pd.option_context('mode.use_inf_as_na', True):\n"
     ]
    },
    {
     "data": {
      "text/plain": [
       "<Axes: xlabel='median_house_value', ylabel='Count'>"
      ]
     },
     "execution_count": 11,
     "metadata": {},
     "output_type": "execute_result"
    },
    {
     "data": {
      "image/png": "[encoded data removed]",
      "text/plain": [
       "<Figure size 640x480 with 1 Axes>"
      ]
     },
     "metadata": {},
     "output_type": "display_data"
    }
   ],
   "source": [
    "sns.histplot(df.median_house_value, bins=50)"
   ]
  },
  {
   "cell_type": "markdown",
   "id": "335a286b-126a-4068-806f-dd36f6af36ea",
   "metadata": {},
   "source": [
    "- The median_house_value doesn't appear to have a super long tail, but it does have a weird s pike at $500,000 for a house price"
   ]
  },
  {
   "cell_type": "markdown",
   "id": "ece6bece-c037-4e3c-ab14-8016dcdadc93",
   "metadata": {},
   "source": [
    "### Preparing the dataset\n",
    "For this homework, we only want to use a subset of data.\n",
    "\n",
    "First, keep only the records where ocean_proximity is either '<1H OCEAN' or 'INLAND'\n",
    "\n",
    "Next, use only the following columns:\n",
    "\n",
    "'latitude',\n",
    "'longitude',\n",
    "'housing_median_age',\n",
    "'total_rooms',\n",
    "'total_bedrooms',\n",
    "'population',\n",
    "'households',\n",
    "'median_income',\n",
    "'median_house_value'"
   ]
  },
  {
   "cell_type": "code",
   "execution_count": 36,
   "id": "fa8e14ee",
   "metadata": {},
   "outputs": [
    {
     "name": "stderr",
     "output_type": "stream",
     "text": [
      "/Users/waleed/Library/Caches/pypoetry/virtualenvs/machine-learning-zoomcamp-eZ02cD9b-py3.11/lib/python3.11/site-packages/seaborn/_oldcore.py:1498: FutureWarning: is_categorical_dtype is deprecated and will be removed in a future version. Use isinstance(dtype, CategoricalDtype) instead\n",
      "  if pd.api.types.is_categorical_dtype(vector):\n",
      "/Users/waleed/Library/Caches/pypoetry/virtualenvs/machine-learning-zoomcamp-eZ02cD9b-py3.11/lib/python3.11/site-packages/seaborn/_oldcore.py:1119: FutureWarning: use_inf_as_na option is deprecated and will be removed in a future version. Convert inf values to NaN before operating instead.\n",
      "  with pd.option_context('mode.use_inf_as_na', True):\n"
     ]
    },
    {
     "data": {
      "text/plain": [
       "(       latitude  longitude  housing_median_age  total_rooms  total_bedrooms  \\\n",
       " 701       37.64    -121.97                32.0       1283.0           194.0   \n",
       " 830       37.61    -121.99                 9.0       3666.0           711.0   \n",
       " 859       37.57    -121.97                21.0       4342.0           783.0   \n",
       " 860       37.58    -121.96                15.0       3575.0           597.0   \n",
       " 861       37.58    -121.98                20.0       4126.0          1031.0   \n",
       " ...         ...        ...                 ...          ...             ...   \n",
       " 20635     39.48    -121.09                25.0       1665.0           374.0   \n",
       " 20636     39.49    -121.21                18.0        697.0           150.0   \n",
       " 20637     39.43    -121.22                17.0       2254.0           485.0   \n",
       " 20638     39.43    -121.32                18.0       1860.0           409.0   \n",
       " 20639     39.37    -121.24                16.0       2785.0           616.0   \n",
       " \n",
       "        population  households  median_income  median_house_value  \n",
       " 701         485.0       171.0         6.0574            431000.0  \n",
       " 830        2341.0       703.0         4.6458            217000.0  \n",
       " 859        2172.0       789.0         4.6146            247600.0  \n",
       " 860        1777.0       559.0         5.7192            283500.0  \n",
       " 861        2079.0       975.0         3.6832            216900.0  \n",
       " ...           ...         ...            ...                 ...  \n",
       " 20635       845.0       330.0         1.5603             78100.0  \n",
       " 20636       356.0       114.0         2.5568             77100.0  \n",
       " 20637      1007.0       433.0         1.7000             92300.0  \n",
       " 20638       741.0       349.0         1.8672             84700.0  \n",
       " 20639      1387.0       530.0         2.3886             89400.0  \n",
       " \n",
       " [15687 rows x 9 columns],\n",
       " <Axes: xlabel='median_house_value', ylabel='Count'>)"
      ]
     },
     "execution_count": 36,
     "metadata": {},
     "output_type": "execute_result"
    },
    {
     "data": {
      "image/png": "[encoded data removed]",
      "text/plain": [
       "<Figure size 640x480 with 1 Axes>"
      ]
     },
     "metadata": {},
     "output_type": "display_data"
    }
   ],
   "source": [
    "# filter for <1H OCEAN or INLAND\n",
    "newdf = df[df['ocean_proximity'].isin(['<1H OCEAN','INLAND'])]\n",
    "# keep only the columns listed\n",
    "newdf = newdf[['latitude', 'longitude', 'housing_median_age', 'total_rooms', 'total_bedrooms', 'population', 'households', 'median_income', 'median_house_value']]\n",
    "newdf, sns.histplot(newdf['median_house_value'], bins=50)"
   ]
  },
  {
   "cell_type": "markdown",
   "id": "5e1220f4-b529-4886-87af-bef4dd3f7d04",
   "metadata": {},
   "source": [
    "### Question 1\n",
    "\n",
    "There's one feature with missing values. What is it?\n",
    "\n",
    "* `total_rooms`\n",
    "* `total_bedrooms` <--\n",
    "* `population`\n",
    "* `households`"
   ]
  },
  {
   "cell_type": "code",
   "execution_count": 35,
   "id": "aa0dcfe0",
   "metadata": {},
   "outputs": [
    {
     "name": "stdout",
     "output_type": "stream",
     "text": [
      "the feature with missing values is ['total_bedrooms']\n"
     ]
    }
   ],
   "source": [
    "missing = newdf.isnull().sum()\n",
    "print(f\"the feature with missing values is {[column for column in missing[missing>0].index]}\")"
   ]
  },
  {
   "cell_type": "markdown",
   "id": "d83edf13-7f00-4170-a1ac-883f92ecd181",
   "metadata": {},
   "source": [
    "### Question 2\n",
    "\n",
    "What's the median (50% percentile) for variable `'population'`?\n",
    "\n",
    "- 995\n",
    "- 1095\n",
    "- 1195 <--\n",
    "- 1295"
   ]
  },
  {
   "cell_type": "code",
   "execution_count": 39,
   "id": "c7fd8e07-a078-4b39-9273-1ee30ab21f4c",
   "metadata": {},
   "outputs": [
    {
     "name": "stdout",
     "output_type": "stream",
     "text": [
      "The median for 'population' is 1195.0\n"
     ]
    }
   ],
   "source": [
    "print(f\"The median for 'population' is {newdf['population'].median()}\")"
   ]
  },
  {
   "cell_type": "markdown",
   "id": "6533ba79-2f0e-4063-b867-abb70e8044d2",
   "metadata": {},
   "source": [
    "### Prepare and split the dataset\n",
    "\n",
    "* Shuffle the dataset (the filtered one you created above), use seed `42`.\n",
    "* Split your data in train/val/test sets, with 60%/20%/20% distribution.\n",
    "* Apply the log transformation to the `median_house_value` variable using the `np.log1p()` function.\n",
    "\n",
    "\n",
    "### Question 3\n",
    "\n",
    "* We need to deal with missing values for the column from Q1.\n",
    "* We have two options: fill it with 0 or with the mean of this variable.\n",
    "* Try both options. For each, train a linear regression model without regularization using the code from the lessons.\n",
    "* For computing the mean, use the training only!\n",
    "* Use the validation dataset to evaluate the models and compare the RMSE of each option.\n",
    "* Round the RMSE scores to 2 decimal digits using `round(score, 2)`\n",
    "* Which option gives better RMSE?\n",
    "\n",
    "Options:\n",
    "\n",
    "- With 0\n",
    "- With mean\n",
    "- Both are equally good <--"
   ]
  },
  {
   "cell_type": "code",
   "execution_count": 41,
   "id": "a830ce4d-5019-4bc9-b0a2-8d3a04071813",
   "metadata": {},
   "outputs": [
    {
     "data": {
      "text/plain": [
       "(15687, 9413, 3137, 3137)"
      ]
     },
     "execution_count": 41,
     "metadata": {},
     "output_type": "execute_result"
    }
   ],
   "source": [
    "# set the seed to 42\n",
    "np.random.seed(42)\n",
    "# split your data\n",
    "n = len(newdf)\n",
    "\n",
    "n_val = int(n * 0.2)\n",
    "n_test = int(n * 0.2)\n",
    "n_train = n - n_val - n_test\n",
    "\n",
    "n, n_train, n_val, n_test"
   ]
  },
  {
   "cell_type": "code",
   "execution_count": 49,
   "id": "1dcf9566",
   "metadata": {},
   "outputs": [
    {
     "data": {
      "text/plain": [
       "(9413, 3137, 3137)"
      ]
     },
     "execution_count": 49,
     "metadata": {},
     "output_type": "execute_result"
    }
   ],
   "source": [
    "# create an index with n values\n",
    "idx = np.arange(n)\n",
    "# shuffle the index\n",
    "np.random.shuffle(idx)\n",
    "\n",
    "# create dataframes for train, validation, test with randomly selected values\n",
    "df_train = newdf.iloc[idx[:n_train]]\n",
    "df_val = newdf.iloc[idx[n_train:n_train+n_val]]\n",
    "df_test = newdf.iloc[idx[n_train+n_val:]]\n",
    "\n",
    "len(df_train), len(df_val), len(df_test)"
   ]
  },
  {
   "cell_type": "code",
   "execution_count": 72,
   "id": "af8f5319-7c35-4eac-8521-92876f0ee9be",
   "metadata": {},
   "outputs": [],
   "source": [
    "# create the training model\n",
    "def train_linear_regression(X, y):\n",
    "    ones = np.ones(X.shape[0])\n",
    "    X = np.column_stack([ones, X])\n",
    "\n",
    "    XTX = X.T.dot(X)\n",
    "    XTX_inv = np.linalg.inv(XTX)\n",
    "    w_full = XTX_inv.dot(X.T).dot(y)\n",
    "    \n",
    "    return w_full[0], w_full[1:]\n",
    "\n",
    "def rmse(y, y_pred):\n",
    "    se = (y - y_pred) ** 2\n",
    "    mse = se.mean()\n",
    "    return np.sqrt(mse)\n",
    "\n",
    "def prepare_X(df, base, fill):\n",
    "    df_num = df[base]\n",
    "    if fill==\"zeros\":\n",
    "        df_num = df_num.fillna(0)\n",
    "    elif fill==\"mean\":\n",
    "        df_num = df_num.fillna(df_num.mean())\n",
    "    X = df_num.values\n",
    "    return X"
   ]
  },
  {
   "cell_type": "code",
   "execution_count": 58,
   "id": "55e7914d-4a6a-44ec-9fc3-b759d8489e6d",
   "metadata": {},
   "outputs": [],
   "source": [
    "# reset indices on the dataframes:\n",
    "df_train = df_train.reset_index(drop=True)\n",
    "df_val = df_val.reset_index(drop=True)\n",
    "df_test = df_test.reset_index(drop=True)\n",
    "\n",
    "# assign y variables, take the log\n",
    "y_train = np.log1p(df_train['median_house_value'].values)\n",
    "y_val = np.log1p(df_val['median_house_value'].values)\n",
    "y_test = np.log1p(df_test['median_house_value'].values)"
   ]
  },
  {
   "cell_type": "code",
   "execution_count": 59,
   "id": "74941ab9-1f2a-40f9-8fa5-083fe77674e3",
   "metadata": {},
   "outputs": [
    {
     "data": {
      "text/plain": [
       "Index(['latitude', 'longitude', 'housing_median_age', 'total_rooms',\n",
       "       'total_bedrooms', 'population', 'households', 'median_income',\n",
       "       'median_house_value'],\n",
       "      dtype='object')"
      ]
     },
     "execution_count": 59,
     "metadata": {},
     "output_type": "execute_result"
    }
   ],
   "source": [
    "df_train.columns"
   ]
  },
  {
   "cell_type": "code",
   "execution_count": 60,
   "id": "958f5f9f",
   "metadata": {},
   "outputs": [],
   "source": [
    "base = ['latitude', 'longitude', 'housing_median_age', 'total_rooms',\n",
    "       'total_bedrooms', 'population', 'households', 'median_income']"
   ]
  },
  {
   "cell_type": "code",
   "execution_count": 87,
   "id": "c24ecf6b-9dea-43a9-8753-d5b9dd9f6f32",
   "metadata": {},
   "outputs": [
    {
     "name": "stdout",
     "output_type": "stream",
     "text": [
      "The rmse of y_val vs y_pred is 0.33\n"
     ]
    }
   ],
   "source": [
    "# IMPLEMENT FILLING NA WITH 0\n",
    "X_train = prepare_X(df_train, base, fill=\"zeros\")\n",
    "w0, w = train_linear_regression(X_train, y_train)\n",
    "y_pred = w0 + X_train.dot(w)\n",
    "\n",
    "X_val = prepare_X(df_val, base, fill=\"zeros\")\n",
    "y_pred = w0 + X_val.dot(w)\n",
    "\n",
    "rmse_zeros = round(rmse(y_val, y_pred),2)\n",
    "print(f\"The rmse of y_val vs y_pred is {rmse_zeros}\")"
   ]
  },
  {
   "cell_type": "code",
   "execution_count": 88,
   "id": "2c58ec75-76f2-42ff-b58f-fb184a69bdd1",
   "metadata": {},
   "outputs": [
    {
     "name": "stdout",
     "output_type": "stream",
     "text": [
      "The rmse of y_val vs y_pred is 0.33\n"
     ]
    }
   ],
   "source": [
    "# IMPLEMENT FILLING NA WITH 0\n",
    "X_train = prepare_X(df_train, base, fill=\"mean\")\n",
    "w0, w = train_linear_regression(X_train, y_train)\n",
    "y_pred = w0 + X_train.dot(w)\n",
    "\n",
    "X_val = prepare_X(df_val, base, fill=\"mean\")\n",
    "y_pred = w0 + X_val.dot(w)\n",
    "\n",
    "rmse_mean = round(rmse(y_val, y_pred),2)\n",
    "print(f\"The rmse of y_val vs y_pred is {rmse_mean}\")"
   ]
  },
  {
   "cell_type": "code",
   "execution_count": 89,
   "id": "6a883e26-6f27-44f8-9c2c-dab3f6fb2d94",
   "metadata": {},
   "outputs": [
    {
     "name": "stdout",
     "output_type": "stream",
     "text": [
      "The RMSE values of zeros vs the mean are the same!\n"
     ]
    }
   ],
   "source": [
    "print(f\"The RMSE values of zeros vs the mean are the same!\")"
   ]
  },
  {
   "cell_type": "code",
   "execution_count": 90,
   "id": "61afe469",
   "metadata": {},
   "outputs": [
    {
     "name": "stderr",
     "output_type": "stream",
     "text": [
      "/Users/waleed/Library/Caches/pypoetry/virtualenvs/machine-learning-zoomcamp-eZ02cD9b-py3.11/lib/python3.11/site-packages/seaborn/_oldcore.py:1498: FutureWarning: is_categorical_dtype is deprecated and will be removed in a future version. Use isinstance(dtype, CategoricalDtype) instead\n",
      "  if pd.api.types.is_categorical_dtype(vector):\n",
      "/Users/waleed/Library/Caches/pypoetry/virtualenvs/machine-learning-zoomcamp-eZ02cD9b-py3.11/lib/python3.11/site-packages/seaborn/_oldcore.py:1119: FutureWarning: use_inf_as_na option is deprecated and will be removed in a future version. Convert inf values to NaN before operating instead.\n",
      "  with pd.option_context('mode.use_inf_as_na', True):\n",
      "/Users/waleed/Library/Caches/pypoetry/virtualenvs/machine-learning-zoomcamp-eZ02cD9b-py3.11/lib/python3.11/site-packages/seaborn/_oldcore.py:1498: FutureWarning: is_categorical_dtype is deprecated and will be removed in a future version. Use isinstance(dtype, CategoricalDtype) instead\n",
      "  if pd.api.types.is_categorical_dtype(vector):\n",
      "/Users/waleed/Library/Caches/pypoetry/virtualenvs/machine-learning-zoomcamp-eZ02cD9b-py3.11/lib/python3.11/site-packages/seaborn/_oldcore.py:1119: FutureWarning: use_inf_as_na option is deprecated and will be removed in a future version. Convert inf values to NaN before operating instead.\n",
      "  with pd.option_context('mode.use_inf_as_na', True):\n"
     ]
    },
    {
     "data": {
      "text/plain": [
       "<matplotlib.legend.Legend at 0x11a485410>"
      ]
     },
     "execution_count": 90,
     "metadata": {},
     "output_type": "execute_result"
    },
    {
     "data": {
      "image/png": "[encoded data removed]",
      "text/plain": [
       "<Figure size 640x480 with 1 Axes>"
      ]
     },
     "metadata": {},
     "output_type": "display_data"
    }
   ],
   "source": [
    "sns.histplot(y_pred, label='prediction', color='red', alpha=0.5, bins=50)\n",
    "sns.histplot(y_val, label='target', color='blue',  alpha=0.5, bins=50)\n",
    "plt.legend()"
   ]
  },
  {
   "cell_type": "markdown",
   "id": "b65cda97-e211-4f70-82b7-00ef93325b8f",
   "metadata": {},
   "source": [
    "### Question 4\n",
    "\n",
    "* Now let's train a regularized linear regression.\n",
    "* For this question, fill the NAs with 0. \n",
    "* Try different values of `r` from this list: `[0, 0.000001, 0.0001, 0.001, 0.01, 0.1, 1, 5, 10]`.\n",
    "* Use RMSE to evaluate the model on the validation dataset.\n",
    "* Round the RMSE scores to 2 decimal digits.\n",
    "* Which `r` gives the best RMSE?\n",
    "\n",
    "If there are multiple options, select the smallest `r`.\n",
    "\n",
    "Options:\n",
    "\n",
    "- 0 <--\n",
    "- 0.000001\n",
    "- 0.001\n",
    "- 0.0001"
   ]
  },
  {
   "cell_type": "code",
   "execution_count": 91,
   "id": "a065bfe8-24df-4e4a-ba47-5f26e3fb898e",
   "metadata": {},
   "outputs": [],
   "source": [
    "def train_linear_regression_reg(X, y, r=0.001):\n",
    "    ones = np.ones(X.shape[0])\n",
    "    X = np.column_stack([ones, X])\n",
    "\n",
    "    XTX = X.T.dot(X)\n",
    "    XTX = XTX + r * np.eye(XTX.shape[0])\n",
    "\n",
    "    XTX_inv = np.linalg.inv(XTX)\n",
    "    w_full = XTX_inv.dot(X.T).dot(y)\n",
    "    \n",
    "    return w_full[0], w_full[1:]"
   ]
  },
  {
   "cell_type": "code",
   "execution_count": 93,
   "id": "8cf8050b-62d1-455f-8af9-3f1afab0cb9c",
   "metadata": {},
   "outputs": [
    {
     "name": "stdout",
     "output_type": "stream",
     "text": [
      "The rmse of y_val vs y_pred for r=0 is 0.33\n",
      "The rmse of y_val vs y_pred for r=1e-06 is 0.33\n",
      "The rmse of y_val vs y_pred for r=0.0001 is 0.33\n",
      "The rmse of y_val vs y_pred for r=0.001 is 0.33\n",
      "The rmse of y_val vs y_pred for r=0.01 is 0.33\n",
      "The rmse of y_val vs y_pred for r=0.1 is 0.33\n",
      "The rmse of y_val vs y_pred for r=1 is 0.34\n",
      "The rmse of y_val vs y_pred for r=5 is 0.34\n",
      "The rmse of y_val vs y_pred for r=10 is 0.34\n"
     ]
    }
   ],
   "source": [
    "# IMPLEMENT FILLING NA WITH 0\n",
    "X_train = prepare_X(df_train, base, fill=\"zeros\")\n",
    "X_val = prepare_X(df_val, base, fill=\"zeros\")\n",
    "r_vals = [0, 0.000001, 0.0001, 0.001, 0.01, 0.1, 1, 5, 10]\n",
    "\n",
    "for r in r_vals:\n",
    "    w0, w = train_linear_regression_reg(X_train, y_train, r)\n",
    "    y_pred = w0 + X_train.dot(w) \n",
    "    y_pred = w0 + X_val.dot(w)\n",
    "    rmse_zeros = round(rmse(y_val, y_pred),2)\n",
    "    print(f\"The rmse of y_val vs y_pred for r={r} is {rmse_zeros}\")"
   ]
  },
  {
   "cell_type": "code",
   "execution_count": 94,
   "id": "a5da2e9d-4a8c-4819-a7cb-441317c74021",
   "metadata": {},
   "outputs": [
    {
     "name": "stdout",
     "output_type": "stream",
     "text": [
      "The r value that gives the best RMSE is 0\n"
     ]
    }
   ],
   "source": [
    "print(\"The r value that gives the best RMSE is 0\")"
   ]
  },
  {
   "cell_type": "markdown",
   "id": "1c54291b-fa34-4cca-abc5-07fee83284a5",
   "metadata": {},
   "source": [
    "### Question 5 \n",
    "\n",
    "* We used seed 42 for splitting the data. Let's find out how selecting the seed influences our score.\n",
    "* Try different seed values: `[0, 1, 2, 3, 4, 5, 6, 7, 8, 9]`.\n",
    "* For each seed, do the train/validation/test split with 60%/20%/20% distribution.\n",
    "* Fill the missing values with 0 and train a model without regularization.\n",
    "* For each seed, evaluate the model on the validation dataset and collect the RMSE scores. \n",
    "* What's the standard deviation of all the scores? To compute the standard deviation, use `np.std`.\n",
    "* Round the result to 3 decimal digits (`round(std, 3)`)\n",
    "\n",
    "What's the value of std?\n",
    "\n",
    "- 0.5\n",
    "- 0.05\n",
    "- 0.005 <--\n",
    "- 0.0005\n",
    "\n",
    "> Note: Standard deviation shows how different the values are.\n",
    "> If it's low, then all values are approximately the same.\n",
    "> If it's high, the values are different. \n",
    "> If standard deviation of scores is low, then our model is *stable*."
   ]
  },
  {
   "cell_type": "code",
   "execution_count": 101,
   "id": "52db6ef1-29e7-4dbb-95a0-6610551f6fb5",
   "metadata": {},
   "outputs": [
    {
     "name": "stdout",
     "output_type": "stream",
     "text": [
      "The rmse of y_val vs y_pred for seed = 0 is 0.34\n",
      "The rmse of y_val vs y_pred for seed = 1 is 0.34\n",
      "The rmse of y_val vs y_pred for seed = 2 is 0.34\n",
      "The rmse of y_val vs y_pred for seed = 3 is 0.33\n",
      "The rmse of y_val vs y_pred for seed = 4 is 0.34\n",
      "The rmse of y_val vs y_pred for seed = 5 is 0.34\n",
      "The rmse of y_val vs y_pred for seed = 6 is 0.34\n",
      "The rmse of y_val vs y_pred for seed = 7 is 0.35\n",
      "The rmse of y_val vs y_pred for seed = 8 is 0.35\n",
      "The rmse of y_val vs y_pred for seed = 9 is 0.33\n",
      "[0.34, 0.34, 0.34, 0.33, 0.34, 0.34, 0.34, 0.35, 0.35, 0.33]\n",
      "0.006\n"
     ]
    }
   ],
   "source": [
    "seeds = [0, 1, 2, 3, 4, 5, 6, 7, 8, 9]\n",
    "\n",
    "std_score = []\n",
    "for seed in seeds:    \n",
    "    np.random.seed(seed)\n",
    "    \n",
    "    # split your data\n",
    "    n = len(newdf)\n",
    "    \n",
    "    n_val = int(n * 0.2)\n",
    "    n_test = int(n * 0.2)\n",
    "    n_train = n - n_val - n_test\n",
    "\n",
    "    # create an index with n values\n",
    "    idx = np.arange(n)\n",
    "    # shuffle the index\n",
    "    np.random.shuffle(idx)\n",
    "    \n",
    "    # create dataframes for train, validation, test with randomly selected values\n",
    "    df_train = newdf.iloc[idx[:n_train]]\n",
    "    df_val = newdf.iloc[idx[n_train:n_train+n_val]]\n",
    "    df_test = newdf.iloc[idx[n_train+n_val:]]\n",
    "\n",
    "    # reset indices on the dataframes:\n",
    "    df_train = df_train.reset_index(drop=True)\n",
    "    df_val = df_val.reset_index(drop=True)\n",
    "    df_test = df_test.reset_index(drop=True)\n",
    "    \n",
    "    # assign y variables, take the log\n",
    "    y_train = np.log1p(df_train['median_house_value'].values)\n",
    "    y_val = np.log1p(df_val['median_house_value'].values)\n",
    "    y_test = np.log1p(df_test['median_house_value'].values)\n",
    "\n",
    "    X_train = prepare_X(df_train, base, fill=\"zeros\")\n",
    "    w0, w = train_linear_regression(X_train, y_train)\n",
    "    \n",
    "    X_val = prepare_X(df_val, base, fill=\"zeros\")\n",
    "    y_pred = w0 + X_val.dot(w)\n",
    "    \n",
    "    score = round(rmse(y_val, y_pred),2)\n",
    "    print(f\"The rmse of y_val vs y_pred for seed = {seed} is {score}\")\n",
    "    std_score.append(score)\n",
    "\n",
    "print(std_score)\n",
    "print(round(np.std(std_score),3))"
   ]
  },
  {
   "cell_type": "markdown",
   "id": "b2a782d2-b4f1-4fe9-9aac-6f7d1f33c33b",
   "metadata": {},
   "source": [
    "### Question 6\n",
    "\n",
    "* Split the dataset like previously, use seed 9.\n",
    "* Combine train and validation datasets.\n",
    "* Fill the missing values with 0 and train a model with `r=0.001`. \n",
    "* What's the RMSE on the test dataset?\n",
    "\n",
    "Options:\n",
    "\n",
    "- 0.13\n",
    "- 0.23\n",
    "- 0.33 <--\n",
    "- 0.43"
   ]
  },
  {
   "cell_type": "code",
   "execution_count": 104,
   "id": "d1e3ee33-8126-43a2-af16-54571fc33b5a",
   "metadata": {},
   "outputs": [
    {
     "data": {
      "text/plain": [
       "(9413, 3137, 3137, 12550)"
      ]
     },
     "execution_count": 104,
     "metadata": {},
     "output_type": "execute_result"
    }
   ],
   "source": [
    "np.random.seed(9)\n",
    "\n",
    "# split your data\n",
    "n = len(newdf)\n",
    "\n",
    "n_val = int(n * 0.2)\n",
    "n_test = int(n * 0.2)\n",
    "n_train = n - n_val - n_test\n",
    "\n",
    "# create an index with n values\n",
    "idx = np.arange(n)\n",
    "# shuffle the index\n",
    "np.random.shuffle(idx)\n",
    "\n",
    "# create dataframes for train, validation, test with randomly selected values\n",
    "df_train = newdf.iloc[idx[:n_train]]\n",
    "df_val = newdf.iloc[idx[n_train:n_train+n_val]]\n",
    "df_test = newdf.iloc[idx[n_train+n_val:]]\n",
    "\n",
    "# reset indices on the dataframes:\n",
    "df_train = df_train.reset_index(drop=True)\n",
    "df_val = df_val.reset_index(drop=True)\n",
    "df_test = df_test.reset_index(drop=True)\n",
    "\n",
    "df_train_val = pd.concat([df_train, df_val], ignore_index=True)\n",
    "\n",
    "len(df_train), len(df_val), len(df_test), len(df_train_val)"
   ]
  },
  {
   "cell_type": "code",
   "execution_count": 106,
   "id": "3a4899b2-4800-4f1e-a80c-02fbd6545a95",
   "metadata": {},
   "outputs": [
    {
     "name": "stdout",
     "output_type": "stream",
     "text": [
      "The rmse of y_val vs y_pred is 0.33\n"
     ]
    }
   ],
   "source": [
    "# assign y variables, take the log\n",
    "y_train_val = np.log1p(df_train_val['median_house_value'].values)\n",
    "y_test = np.log1p(df_test['median_house_value'].values)\n",
    "\n",
    "X_train_val = prepare_X(df_train_val, base, fill=\"zeros\")\n",
    "w0, w = train_linear_regression_reg(X_train, y_train, r=0.001)\n",
    "\n",
    "X_test = prepare_X(df_test, base, fill=\"zeros\")\n",
    "y_pred = w0 + X_test.dot(w)\n",
    "\n",
    "score = round(rmse(y_test, y_pred),2)\n",
    "print(f\"The rmse of y_val vs y_pred is {score}\")"
   ]
  },
  {
   "cell_type": "code",
   "execution_count": null,
   "id": "26fb19fb-5d21-4d55-b80f-835de8161195",
   "metadata": {},
   "outputs": [],
   "source": []
  }
 ],
 "metadata": {
  "kernelspec": {
   "display_name": "Python 3 (ipykernel)",
   "language": "python",
   "name": "python3"
  },
  "language_info": {
   "codemirror_mode": {
    "name": "ipython",
    "version": 3
   },
   "file_extension": ".py",
   "mimetype": "text/x-python",
   "name": "python",
   "nbconvert_exporter": "python",
   "pygments_lexer": "ipython3",
   "version": "3.11.6"
  }
 },
 "nbformat": 4,
 "nbformat_minor": 5
}
