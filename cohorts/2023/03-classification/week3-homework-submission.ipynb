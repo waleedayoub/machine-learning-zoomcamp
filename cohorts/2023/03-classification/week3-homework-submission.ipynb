{
 "cells": [
  {
   "cell_type": "markdown",
   "id": "c87b8207-6102-4802-80e9-6fc4f3de81c3",
   "metadata": {},
   "source": [
    "## Week 3 Homework Submission"
   ]
  },
  {
   "cell_type": "code",
   "execution_count": 2,
   "id": "510524b2-90f6-4e77-8daf-25c60d340289",
   "metadata": {},
   "outputs": [],
   "source": [
    "import numpy as np\n",
    "import pandas as pd\n",
    "import matplotlib.pyplot as plt\n",
    "import seaborn as sns\n",
    "\n",
    "%matplotlib inline"
   ]
  },
  {
   "cell_type": "code",
   "execution_count": 99,
   "id": "63037d7b-93fe-457e-ba46-10b286510e81",
   "metadata": {},
   "outputs": [
    {
     "ename": "ModuleNotFoundError",
     "evalue": "No module named 'sklearn'",
     "output_type": "error",
     "traceback": [
      "\u001b[0;31m---------------------------------------------------------------------------\u001b[0m",
      "\u001b[0;31mModuleNotFoundError\u001b[0m                       Traceback (most recent call last)",
      "Cell \u001b[0;32mIn[99], line 1\u001b[0m\n\u001b[0;32m----> 1\u001b[0m \u001b[38;5;28;01mfrom\u001b[39;00m \u001b[38;5;21;01msklearn\u001b[39;00m\u001b[38;5;21;01m.\u001b[39;00m\u001b[38;5;21;01mmodel_selection\u001b[39;00m \u001b[38;5;28;01mimport\u001b[39;00m train_test_split\n",
      "\u001b[0;31mModuleNotFoundError\u001b[0m: No module named 'sklearn'"
     ]
    }
   ],
   "source": [
    "from sklearn.model_selection import train_test_split\n",
    "from sklearn.metrics import mutual_info_score\n",
    "from sklearn.feature_extraction import DictVectorizer\n",
    "from sklearn.linear_model import LogisticRegression, LinearRegression, RidgeRegression"
   ]
  },
  {
   "cell_type": "markdown",
   "id": "e2576568-3133-4efd-807e-4d1d79291842",
   "metadata": {},
   "source": [
    "### Dataset\n",
    "\n",
    "In this homework, we will use the Car price dataset. Download it from [here](https://raw.githubusercontent.com/alexeygrigorev/mlbookcamp-code/master/chapter-02-car-price/data.csv).\n",
    "\n",
    "Or you can do it with `wget`:\n",
    "\n",
    "```bash\n",
    "wget https://raw.githubusercontent.com/alexeygrigorev/mlbookcamp-code/master/chapter-02-car-price/data.csv\n",
    "```\n",
    "\n",
    "We'll keep working with the `MSRP` variable, and we'll transform it to a classification task. \n",
    "\n",
    "### Features\n",
    "\n",
    "For the rest of the homework, you'll need to use only these columns:\n",
    "\n",
    "* `Make`,\n",
    "* `Model`,\n",
    "* `Year`,\n",
    "* `Engine HP`,\n",
    "* `Engine Cylinders`,\n",
    "* `Transmission Type`,\n",
    "* `Vehicle Style`,\n",
    "* `highway MPG`,\n",
    "* `city mpg`\n",
    "\n",
    "### Data preparation\n",
    "\n",
    "* Select only the features from above and transform their names using next line:\n",
    "  ```\n",
    "  data.columns = data.columns.str.replace(' ', '_').str.lower()\n",
    "  ```\n",
    "* Fill in the missing values of the selected features with 0.\n",
    "* Rename `MSRP` variable to `price`."
   ]
  },
  {
   "cell_type": "code",
   "execution_count": 3,
   "id": "942731ab-5501-470f-9874-11aa460d5121",
   "metadata": {},
   "outputs": [
    {
     "name": "stdout",
     "output_type": "stream",
     "text": [
      "--2023-10-02 05:29:54--  https://raw.githubusercontent.com/alexeygrigorev/mlbookcamp-code/master/chapter-02-car-price/data.csv\n",
      "Resolving raw.githubusercontent.com (raw.githubusercontent.com)... 185.199.111.133, 185.199.109.133, 185.199.110.133, ...\n",
      "Connecting to raw.githubusercontent.com (raw.githubusercontent.com)|185.199.111.133|:443... connected.\n",
      "HTTP request sent, awaiting response... 200 OK\n",
      "Length: 1475504 (1.4M) [text/plain]\n",
      "Saving to: ‘data.csv’\n",
      "\n",
      "data.csv            100%[===================>]   1.41M  2.95MB/s    in 0.5s    \n",
      "\n",
      "2023-10-02 05:29:54 (2.95 MB/s) - ‘data.csv’ saved [1475504/1475504]\n",
      "\n"
     ]
    }
   ],
   "source": [
    "!wget https://raw.githubusercontent.com/alexeygrigorev/mlbookcamp-code/master/chapter-02-car-price/data.csv"
   ]
  },
  {
   "cell_type": "code",
   "execution_count": 33,
   "id": "1e63a2c4-a4e8-4b73-9148-209a337136b2",
   "metadata": {},
   "outputs": [
    {
     "data": {
      "text/html": [
       "<div>\n",
       "<style scoped>\n",
       "    .dataframe tbody tr th:only-of-type {\n",
       "        vertical-align: middle;\n",
       "    }\n",
       "\n",
       "    .dataframe tbody tr th {\n",
       "        vertical-align: top;\n",
       "    }\n",
       "\n",
       "    .dataframe thead th {\n",
       "        text-align: right;\n",
       "    }\n",
       "</style>\n",
       "<table border=\"1\" class=\"dataframe\">\n",
       "  <thead>\n",
       "    <tr style=\"text-align: right;\">\n",
       "      <th></th>\n",
       "      <th>Make</th>\n",
       "      <th>Model</th>\n",
       "      <th>Year</th>\n",
       "      <th>Engine Fuel Type</th>\n",
       "      <th>Engine HP</th>\n",
       "      <th>Engine Cylinders</th>\n",
       "      <th>Transmission Type</th>\n",
       "      <th>Driven_Wheels</th>\n",
       "      <th>Number of Doors</th>\n",
       "      <th>Market Category</th>\n",
       "      <th>Vehicle Size</th>\n",
       "      <th>Vehicle Style</th>\n",
       "      <th>highway MPG</th>\n",
       "      <th>city mpg</th>\n",
       "      <th>Popularity</th>\n",
       "      <th>MSRP</th>\n",
       "    </tr>\n",
       "  </thead>\n",
       "  <tbody>\n",
       "    <tr>\n",
       "      <th>0</th>\n",
       "      <td>BMW</td>\n",
       "      <td>1 Series M</td>\n",
       "      <td>2011</td>\n",
       "      <td>premium unleaded (required)</td>\n",
       "      <td>335.0</td>\n",
       "      <td>6.0</td>\n",
       "      <td>MANUAL</td>\n",
       "      <td>rear wheel drive</td>\n",
       "      <td>2.0</td>\n",
       "      <td>Factory Tuner,Luxury,High-Performance</td>\n",
       "      <td>Compact</td>\n",
       "      <td>Coupe</td>\n",
       "      <td>26</td>\n",
       "      <td>19</td>\n",
       "      <td>3916</td>\n",
       "      <td>46135</td>\n",
       "    </tr>\n",
       "    <tr>\n",
       "      <th>1</th>\n",
       "      <td>BMW</td>\n",
       "      <td>1 Series</td>\n",
       "      <td>2011</td>\n",
       "      <td>premium unleaded (required)</td>\n",
       "      <td>300.0</td>\n",
       "      <td>6.0</td>\n",
       "      <td>MANUAL</td>\n",
       "      <td>rear wheel drive</td>\n",
       "      <td>2.0</td>\n",
       "      <td>Luxury,Performance</td>\n",
       "      <td>Compact</td>\n",
       "      <td>Convertible</td>\n",
       "      <td>28</td>\n",
       "      <td>19</td>\n",
       "      <td>3916</td>\n",
       "      <td>40650</td>\n",
       "    </tr>\n",
       "    <tr>\n",
       "      <th>2</th>\n",
       "      <td>BMW</td>\n",
       "      <td>1 Series</td>\n",
       "      <td>2011</td>\n",
       "      <td>premium unleaded (required)</td>\n",
       "      <td>300.0</td>\n",
       "      <td>6.0</td>\n",
       "      <td>MANUAL</td>\n",
       "      <td>rear wheel drive</td>\n",
       "      <td>2.0</td>\n",
       "      <td>Luxury,High-Performance</td>\n",
       "      <td>Compact</td>\n",
       "      <td>Coupe</td>\n",
       "      <td>28</td>\n",
       "      <td>20</td>\n",
       "      <td>3916</td>\n",
       "      <td>36350</td>\n",
       "    </tr>\n",
       "    <tr>\n",
       "      <th>3</th>\n",
       "      <td>BMW</td>\n",
       "      <td>1 Series</td>\n",
       "      <td>2011</td>\n",
       "      <td>premium unleaded (required)</td>\n",
       "      <td>230.0</td>\n",
       "      <td>6.0</td>\n",
       "      <td>MANUAL</td>\n",
       "      <td>rear wheel drive</td>\n",
       "      <td>2.0</td>\n",
       "      <td>Luxury,Performance</td>\n",
       "      <td>Compact</td>\n",
       "      <td>Coupe</td>\n",
       "      <td>28</td>\n",
       "      <td>18</td>\n",
       "      <td>3916</td>\n",
       "      <td>29450</td>\n",
       "    </tr>\n",
       "    <tr>\n",
       "      <th>4</th>\n",
       "      <td>BMW</td>\n",
       "      <td>1 Series</td>\n",
       "      <td>2011</td>\n",
       "      <td>premium unleaded (required)</td>\n",
       "      <td>230.0</td>\n",
       "      <td>6.0</td>\n",
       "      <td>MANUAL</td>\n",
       "      <td>rear wheel drive</td>\n",
       "      <td>2.0</td>\n",
       "      <td>Luxury</td>\n",
       "      <td>Compact</td>\n",
       "      <td>Convertible</td>\n",
       "      <td>28</td>\n",
       "      <td>18</td>\n",
       "      <td>3916</td>\n",
       "      <td>34500</td>\n",
       "    </tr>\n",
       "  </tbody>\n",
       "</table>\n",
       "</div>"
      ],
      "text/plain": [
       "  Make       Model  Year             Engine Fuel Type  Engine HP  \\\n",
       "0  BMW  1 Series M  2011  premium unleaded (required)      335.0   \n",
       "1  BMW    1 Series  2011  premium unleaded (required)      300.0   \n",
       "2  BMW    1 Series  2011  premium unleaded (required)      300.0   \n",
       "3  BMW    1 Series  2011  premium unleaded (required)      230.0   \n",
       "4  BMW    1 Series  2011  premium unleaded (required)      230.0   \n",
       "\n",
       "   Engine Cylinders Transmission Type     Driven_Wheels  Number of Doors  \\\n",
       "0               6.0            MANUAL  rear wheel drive              2.0   \n",
       "1               6.0            MANUAL  rear wheel drive              2.0   \n",
       "2               6.0            MANUAL  rear wheel drive              2.0   \n",
       "3               6.0            MANUAL  rear wheel drive              2.0   \n",
       "4               6.0            MANUAL  rear wheel drive              2.0   \n",
       "\n",
       "                         Market Category Vehicle Size Vehicle Style  \\\n",
       "0  Factory Tuner,Luxury,High-Performance      Compact         Coupe   \n",
       "1                     Luxury,Performance      Compact   Convertible   \n",
       "2                Luxury,High-Performance      Compact         Coupe   \n",
       "3                     Luxury,Performance      Compact         Coupe   \n",
       "4                                 Luxury      Compact   Convertible   \n",
       "\n",
       "   highway MPG  city mpg  Popularity   MSRP  \n",
       "0           26        19        3916  46135  \n",
       "1           28        19        3916  40650  \n",
       "2           28        20        3916  36350  \n",
       "3           28        18        3916  29450  \n",
       "4           28        18        3916  34500  "
      ]
     },
     "execution_count": 33,
     "metadata": {},
     "output_type": "execute_result"
    }
   ],
   "source": [
    "df = pd.read_csv('data.csv')\n",
    "df.head()"
   ]
  },
  {
   "cell_type": "markdown",
   "id": "3897a5ba-2935-4c99-8e20-e4546070b8a7",
   "metadata": {},
   "source": [
    "## EDA and Data Prep\n",
    "- Filter the features to only the relevant set\n",
    "- Select only the features from above and transform their names using next line: data.columns = data.columns.str.replace(' ', '_').str.lower()\n",
    "- Fill in the missing values of the selected features with 0.\n",
    "- Rename MSRP variable to price"
   ]
  },
  {
   "cell_type": "code",
   "execution_count": 34,
   "id": "ed5637d2-9485-4d29-bb2d-b16e10a18c62",
   "metadata": {},
   "outputs": [
    {
     "data": {
      "text/plain": [
       "(  make       model  year  engine_hp  engine_cylinders transmission_type  \\\n",
       " 0  BMW  1 Series M  2011      335.0               6.0            MANUAL   \n",
       " 1  BMW    1 Series  2011      300.0               6.0            MANUAL   \n",
       " 2  BMW    1 Series  2011      300.0               6.0            MANUAL   \n",
       " 3  BMW    1 Series  2011      230.0               6.0            MANUAL   \n",
       " 4  BMW    1 Series  2011      230.0               6.0            MANUAL   \n",
       " \n",
       "   vehicle_style  highway_mpg  city_mpg  price  \n",
       " 0         Coupe           26        19  46135  \n",
       " 1   Convertible           28        19  40650  \n",
       " 2         Coupe           28        20  36350  \n",
       " 3         Coupe           28        18  29450  \n",
       " 4   Convertible           28        18  34500  ,\n",
       " make                 0\n",
       " model                0\n",
       " year                 0\n",
       " engine_hp            0\n",
       " engine_cylinders     0\n",
       " transmission_type    0\n",
       " vehicle_style        0\n",
       " highway_mpg          0\n",
       " city_mpg             0\n",
       " price                0\n",
       " dtype: int64)"
      ]
     },
     "execution_count": 34,
     "metadata": {},
     "output_type": "execute_result"
    }
   ],
   "source": [
    "features = ['Make', 'Model', 'Year', 'Engine HP',\n",
    "       'Engine Cylinders', 'Transmission Type', 'Vehicle Style',\n",
    "       'highway MPG', 'city mpg', 'MSRP']\n",
    "df = df[features]\n",
    "df.columns = df.columns.str.replace('MSRP','price').str.replace(' ','_').str.lower()\n",
    "df = df.fillna(0)\n",
    "df.head(), df.isnull().sum()"
   ]
  },
  {
   "cell_type": "markdown",
   "id": "43bc00f1-e840-4516-9819-91f04c137024",
   "metadata": {},
   "source": [
    "### Question 1\n",
    "\n",
    "What is the most frequent observation (mode) for the column `transmission_type`?\n",
    "\n",
    "- `AUTOMATIC` <--\n",
    "- `MANUAL`\n",
    "- `AUTOMATED_MANUAL`\n",
    "- `DIRECT_DRIVE`"
   ]
  },
  {
   "cell_type": "code",
   "execution_count": 72,
   "id": "abe5e5ff-dcff-494a-b5a5-3b4caca4a80f",
   "metadata": {},
   "outputs": [
    {
     "data": {
      "text/plain": [
       "transmission_type\n",
       "AUTOMATED_MANUAL     626\n",
       "AUTOMATIC           8266\n",
       "DIRECT_DRIVE          68\n",
       "MANUAL              2935\n",
       "UNKNOWN               19\n",
       "Name: transmission_type, dtype: int64"
      ]
     },
     "execution_count": 72,
     "metadata": {},
     "output_type": "execute_result"
    }
   ],
   "source": [
    "df.groupby('transmission_type').transmission_type.count()"
   ]
  },
  {
   "cell_type": "code",
   "execution_count": 73,
   "id": "f8d210fd-5cbd-421e-9786-9cb48a752468",
   "metadata": {},
   "outputs": [
    {
     "name": "stdout",
     "output_type": "stream",
     "text": [
      "the most frequent observation for the column `transmission_type` is `AUTOMATIC`\n"
     ]
    }
   ],
   "source": [
    "print(\"the most frequent observation for the column `transmission_type` is `AUTOMATIC`\")"
   ]
  },
  {
   "cell_type": "markdown",
   "id": "e30e19c6-0657-488e-9ecf-e875e473087e",
   "metadata": {},
   "source": [
    "### Question 2\n",
    "\n",
    "Create the [correlation matrix](https://www.google.com/search?q=correlation+matrix) for the numerical features of your dataset. \n",
    "In a correlation matrix, you compute the correlation coefficient between every pair of features in the dataset.\n",
    "\n",
    "What are the two features that have the biggest correlation in this dataset?\n",
    "\n",
    "- `engine_hp` and `year`\n",
    "- `engine_hp` and `engine_cylinders`\n",
    "- `highway_mpg` and `engine_cylinders`\n",
    "- `highway_mpg` and `city_mpg` <--"
   ]
  },
  {
   "cell_type": "code",
   "execution_count": 125,
   "id": "41b36c04-d423-4a94-9737-d0ec2e20912a",
   "metadata": {},
   "outputs": [],
   "source": [
    "categorical = list(df.dtypes[df.dtypes == 'object'].index)\n",
    "numerical = list(df.dtypes[df.dtypes != 'object'].index)"
   ]
  },
  {
   "cell_type": "code",
   "execution_count": null,
   "id": "2f5ebda6-b53f-4086-b44d-d21e4af7bfb7",
   "metadata": {},
   "outputs": [],
   "source": [
    "# make all categorical variables lower case and replace spaces with '_'\n",
    "for c in categorical:\n",
    "    df[c] = df[c].str.lower().str.replace(' ', '_')\n",
    "\n",
    "df.head().T"
   ]
  },
  {
   "cell_type": "code",
   "execution_count": 93,
   "id": "d07b2241-2d7d-48ac-b8bd-d294657c21b7",
   "metadata": {},
   "outputs": [
    {
     "name": "stdout",
     "output_type": "stream",
     "text": [
      "the correlation matrix for year is: \n",
      "year                1.000000\n",
      "engine_hp           0.338714\n",
      "engine_cylinders    0.040708\n",
      "highway_mpg         0.258240\n",
      "city_mpg            0.198171\n",
      "price               0.227590\n",
      "dtype: float64\n",
      "the correlation matrix for engine_hp is: \n",
      "year                0.338714\n",
      "engine_hp           1.000000\n",
      "engine_cylinders    0.774851\n",
      "highway_mpg         0.415707\n",
      "city_mpg            0.424918\n",
      "price               0.650095\n",
      "dtype: float64\n",
      "the correlation matrix for engine_cylinders is: \n",
      "year                0.040708\n",
      "engine_hp           0.774851\n",
      "engine_cylinders    1.000000\n",
      "highway_mpg         0.614541\n",
      "city_mpg            0.587306\n",
      "price               0.526274\n",
      "dtype: float64\n",
      "the correlation matrix for highway_mpg is: \n",
      "year                0.258240\n",
      "engine_hp           0.415707\n",
      "engine_cylinders    0.614541\n",
      "highway_mpg         1.000000\n",
      "city_mpg            0.886829\n",
      "price               0.160043\n",
      "dtype: float64\n",
      "the correlation matrix for city_mpg is: \n",
      "year                0.198171\n",
      "engine_hp           0.424918\n",
      "engine_cylinders    0.587306\n",
      "highway_mpg         0.886829\n",
      "city_mpg            1.000000\n",
      "price               0.157676\n",
      "dtype: float64\n",
      "the correlation matrix for price is: \n",
      "year                0.227590\n",
      "engine_hp           0.650095\n",
      "engine_cylinders    0.526274\n",
      "highway_mpg         0.160043\n",
      "city_mpg            0.157676\n",
      "price               1.000000\n",
      "dtype: float64\n"
     ]
    }
   ],
   "source": [
    "# create the correlation matrix between all numerical variables\n",
    "for c in list(df[numerical]):\n",
    "    print(f\"the correlation matrix for {c} is: \")\n",
    "    print(df[numerical].corrwith(df[c]).abs())"
   ]
  },
  {
   "cell_type": "code",
   "execution_count": 94,
   "id": "a1e0dee5-5441-4315-bbef-c97fab304a08",
   "metadata": {},
   "outputs": [
    {
     "name": "stdout",
     "output_type": "stream",
     "text": [
      "the two features that have the biggest correlation are highway_mpg and city_mpg\n"
     ]
    }
   ],
   "source": [
    "print(\"the two features that have the biggest correlation are highway_mpg and city_mpg\")"
   ]
  },
  {
   "cell_type": "markdown",
   "id": "59050efc-1e1b-450c-8f30-6bfefb271f0b",
   "metadata": {},
   "source": [
    "### Make `price` binary\n",
    "\n",
    "* Now we need to turn the `price` variable from numeric into a binary format.\n",
    "* Let's create a variable `above_average` which is `1` if the `price` is above its mean value and `0` otherwise.\n",
    "\n",
    "### Split the data\n",
    "\n",
    "* Split your data in train/val/test sets with 60%/20%/20% distribution.\n",
    "* Use Scikit-Learn for that (the `train_test_split` function) and set the seed to `42`.\n",
    "* Make sure that the target value (`above_average`) is not in your dataframe.\n",
    "\n",
    "### Question 3\n",
    "\n",
    "* Calculate the mutual information score between `above_average` and other categorical variables in our dataset. \n",
    "  Use the training set only.\n",
    "* Round the scores to 2 decimals using `round(score, 2)`.\n",
    "\n",
    "Which of these variables has the lowest mutual information score?\n",
    "  \n",
    "- `make`\n",
    "- `model`\n",
    "- `transmission_type`\n",
    "- `vehicle_style`\n"
   ]
  },
  {
   "cell_type": "code",
   "execution_count": 112,
   "id": "4717886c-512e-4804-bf05-9f409f70e015",
   "metadata": {},
   "outputs": [
    {
     "data": {
      "text/plain": [
       "(  make       model  year  engine_hp  engine_cylinders transmission_type  \\\n",
       " 0  bmw  1_series_m  2011      335.0               6.0            manual   \n",
       " 1  bmw    1_series  2011      300.0               6.0            manual   \n",
       " 2  bmw    1_series  2011      300.0               6.0            manual   \n",
       " 3  bmw    1_series  2011      230.0               6.0            manual   \n",
       " 4  bmw    1_series  2011      230.0               6.0            manual   \n",
       " \n",
       "   vehicle_style  highway_mpg  city_mpg  price  above_average  \n",
       " 0         coupe           26        19  46135              1  \n",
       " 1   convertible           28        19  40650              1  \n",
       " 2         coupe           28        20  36350              0  \n",
       " 3         coupe           28        18  29450              0  \n",
       " 4   convertible           28        18  34500              0  ,\n",
       " above_average\n",
       " 0    0.725617\n",
       " 1    0.274383\n",
       " Name: proportion, dtype: float64)"
      ]
     },
     "execution_count": 112,
     "metadata": {},
     "output_type": "execute_result"
    }
   ],
   "source": [
    "del df['above_average']\n",
    "df['above_average'] = (df.price > df.price.mean()).astype(int)\n",
    "df.head()"
   ]
  },
  {
   "cell_type": "code",
   "execution_count": 118,
   "id": "b4fbd60f-d325-4df0-b100-de8b0d06817c",
   "metadata": {},
   "outputs": [
    {
     "data": {
      "text/plain": [
       "above_average\n",
       "0    8645\n",
       "1    3269\n",
       "Name: count, dtype: int64"
      ]
     },
     "execution_count": 118,
     "metadata": {},
     "output_type": "execute_result"
    }
   ],
   "source": [
    "df['above_average'].value_counts(normalize=False)"
   ]
  },
  {
   "cell_type": "code",
   "execution_count": null,
   "id": "a19e1a77-a4eb-47ec-bdf5-5a075f385630",
   "metadata": {},
   "outputs": [],
   "source": [
    "# split the data\n",
    "seed = 42\n",
    "\n",
    "df_full_train, df_test = train_test_split(df, test_size=0.2, random_state=seed)\n",
    "df_train, df_val = train_test_split(df_full_train, test_size=0.2, random_state=seed)\n",
    "\n",
    "df_train = df_train.reset_index(drop=True)\n",
    "df_val = df_val.reset_index(drop=True)\n",
    "df_test = df_test.reset_index(drop=True)\n",
    "\n",
    "y_train = df_train.above_average.values\n",
    "y_val = df_val.above_average.values\n",
    "y_test = df_test.above_average.values\n",
    "\n",
    "del df_train['price','above_average']\n",
    "del df_val['price','above_average']\n",
    "del df_test['price','above_average']\n",
    "\n",
    "len(df_train), len(df_val), len(df_test)"
   ]
  },
  {
   "cell_type": "code",
   "execution_count": 115,
   "id": "a4e741d3-ed98-4cdc-a1f3-d1f25ee87b71",
   "metadata": {},
   "outputs": [
    {
     "ename": "NameError",
     "evalue": "name 'df_full_train' is not defined",
     "output_type": "error",
     "traceback": [
      "\u001b[0;31m---------------------------------------------------------------------------\u001b[0m",
      "\u001b[0;31mNameError\u001b[0m                                 Traceback (most recent call last)",
      "Cell \u001b[0;32mIn[115], line 4\u001b[0m\n\u001b[1;32m      1\u001b[0m \u001b[38;5;66;03m# calculate mutual informaton score between above_average and categorical variables\u001b[39;00m\n\u001b[1;32m      2\u001b[0m \u001b[38;5;66;03m# use the training set only\u001b[39;00m\n\u001b[0;32m----> 4\u001b[0m \u001b[43mdf_full_train\u001b[49m\u001b[38;5;241m.\u001b[39mhead()\n",
      "\u001b[0;31mNameError\u001b[0m: name 'df_full_train' is not defined"
     ]
    }
   ],
   "source": [
    "# calculate mutual informaton score between above_average and categorical variables\n",
    "# use the training set only\n",
    "\n",
    "def mutual_info_churn_score(series):\n",
    "    return mutual_info_score(series, df_full_train.above_average)\n",
    "\n",
    "mi = df_full_train[categorical].apply(mutual_info_churn_score)\n",
    "mi.sort_values(ascending=False)"
   ]
  },
  {
   "cell_type": "markdown",
   "id": "20aedca7-56ff-415b-b679-cb68ef8bbd70",
   "metadata": {},
   "source": [
    "### Question 4\n",
    "\n",
    "* Now let's train a logistic regression.\n",
    "* Remember that we have several categorical variables in the dataset. Include them using one-hot encoding.\n",
    "* Fit the model on the training dataset.\n",
    "    - To make sure the results are reproducible across different versions of Scikit-Learn, fit the model with these parameters:\n",
    "    - `model = LogisticRegression(solver='liblinear', C=10, max_iter=1000, random_state=42)`\n",
    "* Calculate the accuracy on the validation dataset and round it to 2 decimal digits.\n",
    "\n",
    "What accuracy did you get?\n",
    "\n",
    "- 0.60\n",
    "- 0.72\n",
    "- 0.84\n",
    "- 0.95\n"
   ]
  },
  {
   "cell_type": "code",
   "execution_count": null,
   "id": "b5156b25-f80b-4733-a8b9-33f2d999b0b8",
   "metadata": {},
   "outputs": [],
   "source": [
    "dv = DictVectorizer(sparse=False)\n",
    "\n",
    "# one hot encoding of training set\n",
    "train_dict = df_train[categorical + numerical].to_dict(orient='records')\n",
    "X_train = dv.fit_transform(train_dict)\n",
    "\n",
    "# one hot encoding of validation set\n",
    "val_dict = df_val[categorical + numerical].to_dict(orient='records')\n",
    "X_val = dv.transform(val_dict)\n",
    "\n",
    "# create a LogisticRegression model object\n",
    "# solver='lbfgs' is the default solver in newer version of sklearn\n",
    "# for older versions, you need to specify it explicitly\n",
    "model = LogisticRegression(solver='liblinear', C=10, max_iter=1000, random_state=seed)\n",
    "\n",
    "# call the model on training data\n",
    "model.fit(X_train, y_train)"
   ]
  },
  {
   "cell_type": "code",
   "execution_count": null,
   "id": "fb7549ff-66c9-4263-abe4-28a2084b0c4a",
   "metadata": {},
   "outputs": [],
   "source": [
    "model.intercept_[0]\n",
    "model.coef_[0].round(3)\n",
    "\n",
    "# create predictions on the validation set\n",
    "y_pred = model.predict_proba(X_val)[:, 1]\n",
    "above_average_pred = (y_pred >= 0.5)\n",
    "(y_val == above_average_pred).mean()\n",
    "\n",
    "# create dataframe to store predicted values on validation set, binary values of those predicted values and the actuals from the validation set\n",
    "df_pred = pd.DataFrame()\n",
    "df_pred['probability'] = y_pred\n",
    "df_pred['prediction'] = above_average_pred.astype(int)\n",
    "df_pred['actual'] = y_val\n",
    "\n",
    "# compare frequency of correct predictions\n",
    "df_pred['correct'] = df_pred.prediction == df_pred.actual\n",
    "df_pred.correct.mean()"
   ]
  },
  {
   "cell_type": "markdown",
   "id": "4677c070-bbcc-4cee-8c76-67ce5afc80f5",
   "metadata": {},
   "source": [
    "### Question 5 \n",
    "\n",
    "* Let's find the least useful feature using the *feature elimination* technique.\n",
    "* Train a model with all these features (using the same parameters as in Q4).\n",
    "* Now exclude each feature from this set and train a model without it. Record the accuracy for each model.\n",
    "* For each feature, calculate the difference between the original accuracy and the accuracy without the feature. \n",
    "\n",
    "Which of following feature has the smallest difference?\n",
    "\n",
    "- `year`\n",
    "- `engine_hp`\n",
    "- `transmission_type`\n",
    "- `city_mpg`\n",
    "\n",
    "> **Note**: the difference doesn't have to be positive"
   ]
  },
  {
   "cell_type": "code",
   "execution_count": 164,
   "id": "eac5e43a-46fc-4541-827b-cc21115706ce",
   "metadata": {},
   "outputs": [
    {
     "name": "stdout",
     "output_type": "stream",
     "text": [
      "we have removed make, leaving us with ['model', 'transmission_type', 'vehicle_style', 'year', 'engine_hp', 'engine_cylinders', 'highway_mpg', 'city_mpg']\n",
      "we have removed model, leaving us with ['make', 'transmission_type', 'vehicle_style', 'year', 'engine_hp', 'engine_cylinders', 'highway_mpg', 'city_mpg']\n",
      "we have removed transmission_type, leaving us with ['make', 'model', 'vehicle_style', 'year', 'engine_hp', 'engine_cylinders', 'highway_mpg', 'city_mpg']\n",
      "we have removed vehicle_style, leaving us with ['make', 'model', 'transmission_type', 'year', 'engine_hp', 'engine_cylinders', 'highway_mpg', 'city_mpg']\n",
      "we have removed year, leaving us with ['make', 'model', 'transmission_type', 'vehicle_style', 'engine_hp', 'engine_cylinders', 'highway_mpg', 'city_mpg']\n",
      "we have removed engine_hp, leaving us with ['make', 'model', 'transmission_type', 'vehicle_style', 'year', 'engine_cylinders', 'highway_mpg', 'city_mpg']\n",
      "we have removed engine_cylinders, leaving us with ['make', 'model', 'transmission_type', 'vehicle_style', 'year', 'engine_hp', 'highway_mpg', 'city_mpg']\n",
      "we have removed highway_mpg, leaving us with ['make', 'model', 'transmission_type', 'vehicle_style', 'year', 'engine_hp', 'engine_cylinders', 'city_mpg']\n",
      "we have removed city_mpg, leaving us with ['make', 'model', 'transmission_type', 'vehicle_style', 'year', 'engine_hp', 'engine_cylinders', 'highway_mpg']\n"
     ]
    }
   ],
   "source": [
    "# dv = DictVectorizer(sparse=False)\n",
    "\n",
    "# make sure price and above_average aren'tin your fields\n",
    "if ('price' in numerical): \n",
    "    numerical.remove('price')\n",
    "\n",
    "if ('above_average' in numerical):\n",
    "    numerical.remove('above_average')\n",
    "    \n",
    "all_features = (categorical + numerical)\n",
    "for eliminated_feature in all_features:\n",
    "    features = (categorical + numerical)\n",
    "    features.remove(eliminated_feature)\n",
    "\n",
    "    train_dict = df_train[features].to_dict(orient='records')\n",
    "    X_train = dv.fit_transform(train_dict)\n",
    "    \n",
    "    # one hot encoding of validation set\n",
    "    val_dict = df_val[features].to_dict(orient='records')\n",
    "    X_val = dv.transform(val_dict)\n",
    "    \n",
    "    # create a LogisticRegression model object\n",
    "    # solver='lbfgs' is the default solver in newer version of sklearn\n",
    "    # for older versions, you need to specify it explicitly\n",
    "    model = LogisticRegression(solver='liblinear', C=10, max_iter=1000, random_state=seed)\n",
    "    \n",
    "    # call the model on training data\n",
    "    model.fit(X_train, y_train)\n",
    "\n",
    "    y_pred = model.predict_proba(X_val[features])[:, 1]\n",
    "    above_average_pred = (y_pred >= 0.5)\n",
    "    (y_val == above_average_pred).mean()\n",
    "    \n",
    "    # create dataframe to store predicted values on validation set, binary values of those predicted values and the actuals from the validation set\n",
    "    df_pred = pd.DataFrame()\n",
    "    df_pred['probability'] = y_pred\n",
    "    df_pred['prediction'] = above_average_pred.astype(int)\n",
    "    df_pred['actual'] = y_val\n",
    "    \n",
    "    # compare frequency of correct predictions\n",
    "    df_pred['correct'] = df_pred.prediction == df_pred.actual\n",
    "    print(f\"The accuracy for the model without {eliminated_feature} is {df_pred.correct.mean()}\")\n",
    "    # create a loop that goes through each feature and train a model without that feature"
   ]
  },
  {
   "cell_type": "markdown",
   "id": "98b4cc22-4552-404e-93ba-6be713d3f07d",
   "metadata": {},
   "source": [
    "### Question 6\n",
    "\n",
    "* For this question, we'll see how to use a linear regression model from Scikit-Learn.\n",
    "* We'll need to use the original column `price`. Apply the logarithmic transformation to this column.\n",
    "* Fit the Ridge regression model on the training data with a solver `'sag'`. Set the seed to `42`.\n",
    "* This model also has a parameter `alpha`. Let's try the following values: `[0, 0.01, 0.1, 1, 10]`.\n",
    "* Round your RMSE scores to 3 decimal digits.\n",
    "\n",
    "Which of these alphas leads to the best RMSE on the validation set?\n",
    "\n",
    "- 0\n",
    "- 0.01\n",
    "- 0.1\n",
    "- 1\n",
    "- 10\n",
    "\n",
    "> **Note**: If there are multiple options, select the smallest `alpha`."
   ]
  },
  {
   "cell_type": "code",
   "execution_count": 151,
   "id": "34e36910-60d6-4fcb-b23e-7a4b7bc3d4a1",
   "metadata": {},
   "outputs": [],
   "source": [
    "fields = (numerical+categorical)"
   ]
  },
  {
   "cell_type": "code",
   "execution_count": 153,
   "id": "9596213b-4d67-4e92-8e27-d80ca4cab653",
   "metadata": {},
   "outputs": [],
   "source": [
    "fields.remove('make')"
   ]
  },
  {
   "cell_type": "code",
   "execution_count": 154,
   "id": "4aeb52c3-ce45-4f43-aa6c-98ba4eea7b2d",
   "metadata": {},
   "outputs": [
    {
     "data": {
      "text/plain": [
       "['year',\n",
       " 'engine_hp',\n",
       " 'engine_cylinders',\n",
       " 'highway_mpg',\n",
       " 'city_mpg',\n",
       " 'model',\n",
       " 'transmission_type',\n",
       " 'vehicle_style']"
      ]
     },
     "execution_count": 154,
     "metadata": {},
     "output_type": "execute_result"
    }
   ],
   "source": [
    "fields"
   ]
  }
 ],
 "metadata": {
  "kernelspec": {
   "display_name": "Python 3 (ipykernel)",
   "language": "python",
   "name": "python3"
  },
  "language_info": {
   "codemirror_mode": {
    "name": "ipython",
    "version": 3
   },
   "file_extension": ".py",
   "mimetype": "text/x-python",
   "name": "python",
   "nbconvert_exporter": "python",
   "pygments_lexer": "ipython3",
   "version": "3.11.4"
  }
 },
 "nbformat": 4,
 "nbformat_minor": 5
}
