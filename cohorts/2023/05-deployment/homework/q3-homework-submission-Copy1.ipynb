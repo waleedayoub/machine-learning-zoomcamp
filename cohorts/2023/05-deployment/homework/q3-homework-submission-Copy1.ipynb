{
 "cells": [
  {
   "cell_type": "code",
   "execution_count": 1,
   "id": "23c0b32f-f82b-4679-b467-3b5d53772adc",
   "metadata": {},
   "outputs": [],
   "source": [
    "import pickle"
   ]
  },
  {
   "cell_type": "code",
   "execution_count": 3,
   "id": "7702ed4e-6240-45fc-80a1-caac55c5df22",
   "metadata": {},
   "outputs": [
    {
     "data": {
      "text/plain": [
       "{'job': 'retired', 'duration': 445, 'poutcome': 'success'}"
      ]
     },
     "execution_count": 3,
     "metadata": {},
     "output_type": "execute_result"
    }
   ],
   "source": [
    "client = {\"job\": \"retired\", \"duration\": 445, \"poutcome\": \"success\"}\n",
    "client"
   ]
  },
  {
   "cell_type": "code",
   "execution_count": 8,
   "id": "33acd672-b35e-4412-bb32-420044d2b78b",
   "metadata": {
    "scrolled": true
   },
   "outputs": [
    {
     "data": {
      "text/plain": [
       "(DictVectorizer(sparse=False), LogisticRegression())"
      ]
     },
     "execution_count": 8,
     "metadata": {},
     "output_type": "execute_result"
    }
   ],
   "source": [
    "model_file = 'model1.bin'\n",
    "dv_file = 'dv.bin'\n",
    "\n",
    "with open(dv_file, 'rb') as f_in:\n",
    "    dv = pickle.load(f_in)\n",
    "    \n",
    "with open(model_file, 'rb') as f_in:\n",
    "    model = pickle.load(f_in)\n",
    "\n",
    "dv, model"
   ]
  },
  {
   "cell_type": "code",
   "execution_count": 9,
   "id": "aa722a06-9527-40f2-88b3-f8cd4dcc0e0d",
   "metadata": {},
   "outputs": [],
   "source": [
    "X = dv.transform([client])\n",
    "y_pred = model.predict_proba(X)[0, 1]"
   ]
  },
  {
   "cell_type": "code",
   "execution_count": 10,
   "id": "a7bbafad-f543-4f49-b45d-21a2e2cae170",
   "metadata": {},
   "outputs": [
    {
     "name": "stdout",
     "output_type": "stream",
     "text": [
      "input: {'job': 'retired', 'duration': 445, 'poutcome': 'success'}\n",
      "output: 0.9019309332297606\n"
     ]
    }
   ],
   "source": [
    "print('input:', client)\n",
    "print('output:', y_pred)"
   ]
  },
  {
   "cell_type": "code",
   "execution_count": null,
   "id": "36e3ece5-32af-4d72-880a-9373646394d3",
   "metadata": {},
   "outputs": [],
   "source": [
    "url = 'http://localhost:9696/predict'\n"
   ]
  }
 ],
 "metadata": {
  "kernelspec": {
   "display_name": "Python 3 (ipykernel)",
   "language": "python",
   "name": "python3"
  },
  "language_info": {
   "codemirror_mode": {
    "name": "ipython",
    "version": 3
   },
   "file_extension": ".py",
   "mimetype": "text/x-python",
   "name": "python",
   "nbconvert_exporter": "python",
   "pygments_lexer": "ipython3",
   "version": "3.11.5"
  }
 },
 "nbformat": 4,
 "nbformat_minor": 5
}
