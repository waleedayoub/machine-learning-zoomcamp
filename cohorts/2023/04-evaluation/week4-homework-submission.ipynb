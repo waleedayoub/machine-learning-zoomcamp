{
 "cells": [
  {
   "cell_type": "markdown",
   "id": "b0e4d9f9-666a-48b3-ab43-382cdecf6d9d",
   "metadata": {},
   "source": [
    "## Week 4 Homework Submission"
   ]
  },
  {
   "cell_type": "markdown",
   "id": "1cb6aaa7-939c-47e5-8a23-1e7f37dfd6d4",
   "metadata": {},
   "source": [
    "In this homework, we will use the Car price dataset like last week. Download it from [here](https://raw.githubusercontent.com/alexeygrigorev/mlbookcamp-code/master/chapter-02-car-price/data.csv).\n",
    "\n",
    "Or you can do it with `wget`:\n",
    "\n",
    "```bash\n",
    "wget https://raw.githubusercontent.com/alexeygrigorev/mlbookcamp-code/master/chapter-02-car-price/data.csv\n",
    "```\n",
    "\n",
    "We'll work with the `MSRP` variable, and we'll transform it to a classification task. \n",
    "\n",
    "For the rest of the homework, you'll need to use only these columns:\n",
    "\n",
    "* `Make`,\n",
    "* `Model`,\n",
    "* `Year`,\n",
    "* `Engine HP`,\n",
    "* `Engine Cylinders`,\n",
    "* `Transmission Type`,\n",
    "* `Vehicle Style`,\n",
    "* `highway MPG`,\n",
    "* `city mpg`\n",
    "* `MSRP`\n",
    "\n",
    "\n",
    "### Data preparation\n",
    "\n",
    "* Keep only the columns above\n",
    "* Lowercase the column names and replace spaces with underscores\n",
    "* Fill the missing values with 0 \n",
    "* Make the price binary (1 if above the average, 0 otherwise) - this will be our target variable `above_average`\n",
    "\n",
    "Split the data into 3 parts: train/validation/test with 60%/20%/20% distribution. Use `train_test_split` function for that with `random_state=1`"
   ]
  },
  {
   "cell_type": "code",
   "execution_count": 1,
   "id": "d96a7d14-adad-4fd5-9149-511b452579f3",
   "metadata": {},
   "outputs": [
    {
     "name": "stdout",
     "output_type": "stream",
     "text": [
      "--2023-10-07 21:18:43--  https://raw.githubusercontent.com/alexeygrigorev/mlbookcamp-code/master/chapter-02-car-price/data.csv\n",
      "Resolving raw.githubusercontent.com (raw.githubusercontent.com)... 185.199.110.133, 185.199.108.133, 185.199.111.133, ...\n",
      "Connecting to raw.githubusercontent.com (raw.githubusercontent.com)|185.199.110.133|:443... connected.\n",
      "HTTP request sent, awaiting response... 200 OK\n",
      "Length: 1475504 (1.4M) [text/plain]\n",
      "Saving to: ‘data.csv’\n",
      "\n",
      "data.csv            100%[===================>]   1.41M  --.-KB/s    in 0.05s   \n",
      "\n",
      "2023-10-07 21:18:43 (30.2 MB/s) - ‘data.csv’ saved [1475504/1475504]\n",
      "\n"
     ]
    }
   ],
   "source": [
    "!wget https://raw.githubusercontent.com/alexeygrigorev/mlbookcamp-code/master/chapter-02-car-price/data.csv"
   ]
  },
  {
   "cell_type": "code",
   "execution_count": 3,
   "id": "cfdfad72-a191-4e7f-a81b-3930c60c2832",
   "metadata": {},
   "outputs": [],
   "source": [
    "import numpy as np\n",
    "import pandas as pd\n",
    "import matplotlib.pyplot as plt\n",
    "import seaborn as sns\n",
    "\n",
    "%matplotlib inline"
   ]
  },
  {
   "cell_type": "code",
   "execution_count": 4,
   "id": "762cce67-c615-47a9-b6ad-f990000c3c07",
   "metadata": {},
   "outputs": [],
   "source": [
    "from sklearn.model_selection import train_test_split\n",
    "from sklearn.metrics import mutual_info_score\n",
    "from sklearn.feature_extraction import DictVectorizer\n",
    "from sklearn.linear_model import LogisticRegression, LinearRegression"
   ]
  },
  {
   "cell_type": "code",
   "execution_count": 5,
   "id": "74a5736c-8e5c-49ef-a676-82c292586c94",
   "metadata": {},
   "outputs": [],
   "source": [
    "df = pd.read_csv('data.csv')"
   ]
  },
  {
   "cell_type": "markdown",
   "id": "320e9991-cfb1-4323-b6f6-3aa7226bc214",
   "metadata": {},
   "source": [
    "### Clean the data"
   ]
  },
  {
   "cell_type": "code",
   "execution_count": 6,
   "id": "5c301910-4c1c-48d3-a9e3-a981f1ac78a1",
   "metadata": {},
   "outputs": [
    {
     "data": {
      "text/plain": [
       "(  make       model  year  engine_hp  engine_cylinders transmission_type  \\\n",
       " 0  BMW  1 Series M  2011      335.0               6.0            MANUAL   \n",
       " 1  BMW    1 Series  2011      300.0               6.0            MANUAL   \n",
       " 2  BMW    1 Series  2011      300.0               6.0            MANUAL   \n",
       " 3  BMW    1 Series  2011      230.0               6.0            MANUAL   \n",
       " 4  BMW    1 Series  2011      230.0               6.0            MANUAL   \n",
       " \n",
       "   vehicle_style  highway_mpg  city_mpg  price  \n",
       " 0         Coupe           26        19  46135  \n",
       " 1   Convertible           28        19  40650  \n",
       " 2         Coupe           28        20  36350  \n",
       " 3         Coupe           28        18  29450  \n",
       " 4   Convertible           28        18  34500  ,\n",
       " make                 0\n",
       " model                0\n",
       " year                 0\n",
       " engine_hp            0\n",
       " engine_cylinders     0\n",
       " transmission_type    0\n",
       " vehicle_style        0\n",
       " highway_mpg          0\n",
       " city_mpg             0\n",
       " price                0\n",
       " dtype: int64)"
      ]
     },
     "execution_count": 6,
     "metadata": {},
     "output_type": "execute_result"
    }
   ],
   "source": [
    "features = ['Make', 'Model', 'Year', 'Engine HP',\n",
    "       'Engine Cylinders', 'Transmission Type', 'Vehicle Style',\n",
    "       'highway MPG', 'city mpg', 'MSRP']\n",
    "df = df[features]\n",
    "df.columns = df.columns.str.replace('MSRP','price').str.replace(' ','_').str.lower()\n",
    "df = df.fillna(0)\n",
    "df.head(), df.isnull().sum()"
   ]
  },
  {
   "cell_type": "markdown",
   "id": "4f84025d-b6f6-49e7-aa34-3b9e89089fdf",
   "metadata": {},
   "source": [
    "### Clean the categorical variables and create 'above_average' target variable"
   ]
  },
  {
   "cell_type": "code",
   "execution_count": 7,
   "id": "dc889b5f-cec3-4167-abba-452ba0e8ee5f",
   "metadata": {},
   "outputs": [
    {
     "data": {
      "text/plain": [
       "(<bound method NDFrame.head of           make       model  year  engine_hp  engine_cylinders  \\\n",
       " 0          bmw  1_series_m  2011      335.0               6.0   \n",
       " 1          bmw    1_series  2011      300.0               6.0   \n",
       " 2          bmw    1_series  2011      300.0               6.0   \n",
       " 3          bmw    1_series  2011      230.0               6.0   \n",
       " 4          bmw    1_series  2011      230.0               6.0   \n",
       " ...        ...         ...   ...        ...               ...   \n",
       " 11909    acura         zdx  2012      300.0               6.0   \n",
       " 11910    acura         zdx  2012      300.0               6.0   \n",
       " 11911    acura         zdx  2012      300.0               6.0   \n",
       " 11912    acura         zdx  2013      300.0               6.0   \n",
       " 11913  lincoln      zephyr  2006      221.0               6.0   \n",
       " \n",
       "       transmission_type  vehicle_style  highway_mpg  city_mpg  price  \\\n",
       " 0                manual          coupe           26        19  46135   \n",
       " 1                manual    convertible           28        19  40650   \n",
       " 2                manual          coupe           28        20  36350   \n",
       " 3                manual          coupe           28        18  29450   \n",
       " 4                manual    convertible           28        18  34500   \n",
       " ...                 ...            ...          ...       ...    ...   \n",
       " 11909         automatic  4dr_hatchback           23        16  46120   \n",
       " 11910         automatic  4dr_hatchback           23        16  56670   \n",
       " 11911         automatic  4dr_hatchback           23        16  50620   \n",
       " 11912         automatic  4dr_hatchback           23        16  50920   \n",
       " 11913         automatic          sedan           26        17  28995   \n",
       " \n",
       "        above_average  \n",
       " 0                  1  \n",
       " 1                  1  \n",
       " 2                  0  \n",
       " 3                  0  \n",
       " 4                  0  \n",
       " ...              ...  \n",
       " 11909              1  \n",
       " 11910              1  \n",
       " 11911              1  \n",
       " 11912              1  \n",
       " 11913              0  \n",
       " \n",
       " [11914 rows x 11 columns]>,\n",
       " above_average\n",
       " 0    8645\n",
       " 1    3269\n",
       " Name: count, dtype: int64)"
      ]
     },
     "execution_count": 7,
     "metadata": {},
     "output_type": "execute_result"
    }
   ],
   "source": [
    "categorical = list(df.dtypes[df.dtypes == 'object'].index)\n",
    "numerical = list(df.dtypes[df.dtypes != 'object'].index)\n",
    "\n",
    "# convert all categorical variables to lowercase and replace spaces with underscore\n",
    "for c in categorical:\n",
    "    df[c] = df[c].str.lower().str.replace(' ', '_')\n",
    "\n",
    "# add the above_average target variable\n",
    "df['above_average'] = (df['price'] > df['price'].mean()).astype(int)\n",
    "\n",
    "df.head, df['above_average'].value_counts(normalize=False)"
   ]
  },
  {
   "cell_type": "markdown",
   "id": "b925e9a6-305d-447b-8b17-e8cababa2edc",
   "metadata": {},
   "source": [
    "### Split the data into train, validate and test sets"
   ]
  },
  {
   "cell_type": "code",
   "execution_count": 15,
   "id": "cd63d552-6a4b-48d3-80bb-cf5074da2084",
   "metadata": {},
   "outputs": [],
   "source": [
    "# split the data\n",
    "seed = 1\n",
    "test_size = 0.2\n",
    "train_size = 0.2"
   ]
  },
  {
   "cell_type": "code",
   "execution_count": 16,
   "id": "832dc523-33f2-443a-8eca-b59432d3fde1",
   "metadata": {},
   "outputs": [
    {
     "data": {
      "text/plain": [
       "(7624, 1907, 2383)"
      ]
     },
     "execution_count": 16,
     "metadata": {},
     "output_type": "execute_result"
    }
   ],
   "source": [
    "#split the dat\n",
    "\n",
    "df_full_train, df_test = train_test_split(df, test_size=test_size, random_state=seed)\n",
    "df_train, df_val = train_test_split(df_full_train, test_size=train_size, random_state=seed)\n",
    "\n",
    "df_train = df_train.reset_index(drop=True)\n",
    "df_val = df_val.reset_index(drop=True)\n",
    "df_test = df_test.reset_index(drop=True)\n",
    "\n",
    "y_train = df_train.above_average.values\n",
    "y_val = df_val.above_average.values\n",
    "y_test = df_test.above_average.values\n",
    "\n",
    "del df_train['price']\n",
    "del df_train['above_average']\n",
    "\n",
    "del df_val['price']\n",
    "del df_val['above_average']\n",
    "\n",
    "del df_test['price']\n",
    "del df_test['above_average']\n",
    "\n",
    "len(df_train), len(df_val), len(df_test)"
   ]
  },
  {
   "cell_type": "markdown",
   "id": "b28f8cde-e20f-441f-85b5-662a31ab50ed",
   "metadata": {},
   "source": [
    "### Question 1: ROC AUC feature importance\n",
    "\n",
    "ROC AUC could also be used to evaluate feature importance of numerical variables. \n",
    "\n",
    "Let's do that\n",
    "\n",
    "* For each numerical variable, use it as score and compute AUC with the `above_average` variable\n",
    "* Use the training dataset for that\n",
    "\n",
    "\n",
    "If your AUC is < 0.5, invert this variable by putting \"-\" in front\n",
    "\n",
    "(e.g. `-df_train['engine_hp']`)\n",
    "\n",
    "AUC can go below 0.5 if the variable is negatively correlated with the target varialble. You can change the direction of the correlation by negating this variable - then negative correlation becomes positive.\n",
    "\n",
    "Which numerical variable (among the following 4) has the highest AUC?\n",
    "\n",
    "- `engine_hp`\n",
    "- `engine_cylinders`\n",
    "- `highway_mpg`\n",
    "- `city_mpg`"
   ]
  },
  {
   "cell_type": "code",
   "execution_count": 20,
   "id": "5e34e353-825d-45fa-99ac-f125251e87b4",
   "metadata": {},
   "outputs": [],
   "source": [
    "from sklearn.metrics import roc_auc_score, auc"
   ]
  },
  {
   "cell_type": "code",
   "execution_count": 27,
   "id": "38dab806-3178-46b8-8abe-3e7c1bd9902f",
   "metadata": {},
   "outputs": [
    {
     "name": "stdout",
     "output_type": "stream",
     "text": [
      "{'engine_hp': 0.9162324220917971, 'engine_cylinders': 0.7674408924408924, 'highway_mpg': 0.6351930621461872, 'city_mpg': 0.6754616043678544}\n",
      "engine_hp\n"
     ]
    },
    {
     "data": {
      "text/plain": [
       "(None, None)"
      ]
     },
     "execution_count": 27,
     "metadata": {},
     "output_type": "execute_result"
    }
   ],
   "source": [
    "q1_features = ['engine_hp', 'engine_cylinders', 'highway_mpg', 'city_mpg']\n",
    "\n",
    "auc_vals = {}\n",
    "for f in q1_features:\n",
    "    auc_score = roc_auc_score(y_train, df_train[f])\n",
    "\n",
    "    if auc_score < 0.5:\n",
    "        auc_score = roc_auc_score(y_train, -df_train[f])\n",
    "\n",
    "    auc_vals[f] = auc_score\n",
    "\n",
    "print(auc_vals), print(max(auc_vals, key=auc_vals.get))"
   ]
  },
  {
   "cell_type": "markdown",
   "id": "394f541c-fb9e-4b01-9825-9a33bfac4d73",
   "metadata": {},
   "source": [
    "### Question 2: Training the model\n",
    "\n",
    "Apply one-hot-encoding using `DictVectorizer` and train the logistic regression with these parameters:\n",
    "\n",
    "```python\n",
    "LogisticRegression(solver='liblinear', C=1.0, max_iter=1000)\n",
    "```\n",
    "\n",
    "What's the AUC of this model on the validation dataset? (round to 3 digits)\n",
    "\n",
    "- 0.678\n",
    "- 0.779\n",
    "- 0.878\n",
    "- 0.979"
   ]
  },
  {
   "cell_type": "code",
   "execution_count": 30,
   "id": "1102bdfa-eb2d-4807-b0cb-2fbe265458cc",
   "metadata": {},
   "outputs": [
    {
     "data": {
      "text/plain": [
       "['make',\n",
       " 'model',\n",
       " 'transmission_type',\n",
       " 'vehicle_style',\n",
       " 'year',\n",
       " 'engine_hp',\n",
       " 'engine_cylinders',\n",
       " 'highway_mpg',\n",
       " 'city_mpg']"
      ]
     },
     "execution_count": 30,
     "metadata": {},
     "output_type": "execute_result"
    }
   ],
   "source": [
    "categorical = list(df_train.dtypes[df_train.dtypes == 'object'].index)\n",
    "numerical = list(df_train.dtypes[df_train.dtypes != 'object'].index)\n",
    "categorical+numerical"
   ]
  },
  {
   "cell_type": "code",
   "execution_count": 31,
   "id": "ecd506d3-25f7-4930-bcff-e6e6eef0e42a",
   "metadata": {},
   "outputs": [],
   "source": [
    "def train(df_train, y_train, C=1.0):\n",
    "    dicts = df_train[categorical + numerical].to_dict(orient='records')\n",
    "\n",
    "    dv = DictVectorizer(sparse=False)\n",
    "    X_train = dv.fit_transform(dicts)\n",
    "\n",
    "    model = LogisticRegression(C=C, solver='liblinear', max_iter=1000)\n",
    "    model.fit(X_train, y_train)\n",
    "    \n",
    "    return dv, model\n",
    "\n",
    "def predict(df, dv, model):\n",
    "    dicts = df[categorical + numerical].to_dict(orient='records')\n",
    "\n",
    "    X = dv.transform(dicts)\n",
    "    y_pred = model.predict_proba(X)[:, 1]\n",
    "\n",
    "    return y_pred"
   ]
  },
  {
   "cell_type": "code",
   "execution_count": 33,
   "id": "a066399c-d422-4855-b7be-44730a7820c4",
   "metadata": {},
   "outputs": [],
   "source": [
    "dv, model = train(df_train, y_train, C=1.0)\n",
    "y_pred = predict(df_val, dv, model)"
   ]
  },
  {
   "cell_type": "code",
   "execution_count": 36,
   "id": "7a49ca60-8b04-4f03-8890-3add39cc8a7f",
   "metadata": {},
   "outputs": [
    {
     "data": {
      "text/plain": [
       "0.978"
      ]
     },
     "execution_count": 36,
     "metadata": {},
     "output_type": "execute_result"
    }
   ],
   "source": [
    "auc = roc_auc_score(y_val, y_pred)\n",
    "round(auc,3)"
   ]
  },
  {
   "cell_type": "markdown",
   "id": "1206cfac-ff92-4f89-a8a4-10098fcd34b0",
   "metadata": {},
   "source": [
    "### Question 3: Precision and Recall\n",
    "\n",
    "Now let's compute precision and recall for our model.\n",
    "\n",
    "* Evaluate the model on all thresholds from 0.0 to 1.0 with step 0.01\n",
    "* For each threshold, compute precision and recall\n",
    "* Plot them\n",
    "\n",
    "At which threshold precision and recall curves intersect?\n",
    "\n",
    "* 0.28\n",
    "* 0.48\n",
    "* 0.68\n",
    "* 0.88"
   ]
  },
  {
   "cell_type": "code",
   "execution_count": 51,
   "id": "c2e8cad9-587c-4ea7-874f-4c94442b81fc",
   "metadata": {
    "scrolled": true
   },
   "outputs": [],
   "source": [
    "thresholds = np.arange(0, 1, .01)\n",
    "scores = []\n",
    "\n",
    "for t in thresholds:\n",
    "    actual_positive = (y_val == 1)\n",
    "    actual_negative = (y_val == 0)\n",
    "\n",
    "    predict_positive = (y_pred >= t)\n",
    "    predict_negative = (y_pred < t)\n",
    "\n",
    "    tp = (predict_positive & actual_positive).sum()\n",
    "    fp = (predict_positive & actual_negative).sum()\n",
    "    tn = (predict_negative & actual_negative).sum()\n",
    "    fn = (predict_negative & actual_positive).sum()\n",
    "\n",
    "    p = tp / (tp + fp)\n",
    "    r = tp / (tp + fn)\n",
    "\n",
    "    scores.append((t, p, r))\n",
    "\n",
    "columns = ['threshold', 'precision', 'recall']\n",
    "df_pr = pd.DataFrame(scores, columns=columns)"
   ]
  },
  {
   "cell_type": "code",
   "execution_count": 40,
   "id": "3f8b78e9-4d16-48be-8816-4bc5bc8d8e01",
   "metadata": {},
   "outputs": [
    {
     "data": {
      "text/plain": [
       "<matplotlib.legend.Legend at 0x1337a5e10>"
      ]
     },
     "execution_count": 40,
     "metadata": {},
     "output_type": "execute_result"
    },
    {
     "data": {
      "image/png": "[encoded data removed]",
      "text/plain": [
       "<Figure size 640x480 with 1 Axes>"
      ]
     },
     "metadata": {},
     "output_type": "display_data"
    }
   ],
   "source": [
    "plt.plot(df_pr.threshold, df_pr['precision'], label='precision')\n",
    "plt.plot(df_pr.threshold, df_pr['recall'], label='recall')\n",
    "plt.legend()"
   ]
  },
  {
   "cell_type": "code",
   "execution_count": 48,
   "id": "2e5a2157-62bd-447e-8341-400389c68c07",
   "metadata": {},
   "outputs": [
    {
     "data": {
      "text/html": [
       "<div>\n",
       "<style scoped>\n",
       "    .dataframe tbody tr th:only-of-type {\n",
       "        vertical-align: middle;\n",
       "    }\n",
       "\n",
       "    .dataframe tbody tr th {\n",
       "        vertical-align: top;\n",
       "    }\n",
       "\n",
       "    .dataframe thead th {\n",
       "        text-align: right;\n",
       "    }\n",
       "</style>\n",
       "<table border=\"1\" class=\"dataframe\">\n",
       "  <thead>\n",
       "    <tr style=\"text-align: right;\">\n",
       "      <th></th>\n",
       "      <th>threshold</th>\n",
       "      <th>precision</th>\n",
       "      <th>recall</th>\n",
       "      <th>difference</th>\n",
       "    </tr>\n",
       "  </thead>\n",
       "  <tbody>\n",
       "    <tr>\n",
       "      <th>49</th>\n",
       "      <td>0.49</td>\n",
       "      <td>0.882129</td>\n",
       "      <td>0.880455</td>\n",
       "      <td>0.001674</td>\n",
       "    </tr>\n",
       "    <tr>\n",
       "      <th>50</th>\n",
       "      <td>0.50</td>\n",
       "      <td>0.882129</td>\n",
       "      <td>0.880455</td>\n",
       "      <td>0.001674</td>\n",
       "    </tr>\n",
       "  </tbody>\n",
       "</table>\n",
       "</div>"
      ],
      "text/plain": [
       "    threshold  precision    recall  difference\n",
       "49       0.49   0.882129  0.880455    0.001674\n",
       "50       0.50   0.882129  0.880455    0.001674"
      ]
     },
     "execution_count": 48,
     "metadata": {},
     "output_type": "execute_result"
    }
   ],
   "source": [
    "df_pr['difference'] = abs(df_pr['precision'] - df_pr['recall'])\n",
    "df_pr[df_pr['difference'] == df_pr['difference'].min()]"
   ]
  },
  {
   "cell_type": "markdown",
   "id": "ce81384e-5d5e-4500-a68b-0a25d316bbd9",
   "metadata": {},
   "source": [
    "### Question 4: F1 score\n",
    "\n",
    "Precision and recall are conflicting - when one grows, the other goes down. That's why they are often combined into the F1 score - a metrics that takes into account both\n",
    "\n",
    "This is the formula for computing F1:\n",
    "\n",
    "$$F_1 = 2 \\cdot \\cfrac{P \\cdot R}{P + R}$$\n",
    "\n",
    "Where $P$ is precision and $R$ is recall.\n",
    "\n",
    "Let's compute F1 for all thresholds from 0.0 to 1.0 with increment 0.01\n",
    "\n",
    "At which threshold F1 is maximal?\n",
    "\n",
    "- 0.12\n",
    "- 0.32\n",
    "- 0.52\n",
    "- 0.72"
   ]
  },
  {
   "cell_type": "code",
   "execution_count": 55,
   "id": "9da4a53a-56fe-4b2c-9881-f9717c497fc1",
   "metadata": {},
   "outputs": [
    {
     "data": {
      "text/html": [
       "<div>\n",
       "<style scoped>\n",
       "    .dataframe tbody tr th:only-of-type {\n",
       "        vertical-align: middle;\n",
       "    }\n",
       "\n",
       "    .dataframe tbody tr th {\n",
       "        vertical-align: top;\n",
       "    }\n",
       "\n",
       "    .dataframe thead th {\n",
       "        text-align: right;\n",
       "    }\n",
       "</style>\n",
       "<table border=\"1\" class=\"dataframe\">\n",
       "  <thead>\n",
       "    <tr style=\"text-align: right;\">\n",
       "      <th></th>\n",
       "      <th>threshold</th>\n",
       "      <th>precision</th>\n",
       "      <th>recall</th>\n",
       "      <th>f1</th>\n",
       "    </tr>\n",
       "  </thead>\n",
       "  <tbody>\n",
       "    <tr>\n",
       "      <th>46</th>\n",
       "      <td>0.46</td>\n",
       "      <td>0.879182</td>\n",
       "      <td>0.897533</td>\n",
       "      <td>0.888263</td>\n",
       "    </tr>\n",
       "  </tbody>\n",
       "</table>\n",
       "</div>"
      ],
      "text/plain": [
       "    threshold  precision    recall        f1\n",
       "46       0.46   0.879182  0.897533  0.888263"
      ]
     },
     "execution_count": 55,
     "metadata": {},
     "output_type": "execute_result"
    }
   ],
   "source": [
    "df_pr['f1'] = (2 * df_pr['precision'] * df_pr['recall']) / (df_pr['precision'] + df_pr['recall'])\n",
    "df_pr[df_pr['f1'] == df_pr['f1'].max()]"
   ]
  },
  {
   "cell_type": "markdown",
   "id": "ddcfbc51-884c-4f8c-bd0c-27768a29cb59",
   "metadata": {},
   "source": [
    "### Question 5: 5-Fold CV\n",
    "\n",
    "\n",
    "Use the `KFold` class from Scikit-Learn to evaluate our model on 5 different folds:\n",
    "\n",
    "```\n",
    "KFold(n_splits=5, shuffle=True, random_state=1)\n",
    "```\n",
    "\n",
    "* Iterate over different folds of `df_full_train`\n",
    "* Split the data into train and validation\n",
    "* Train the model on train with these parameters: `LogisticRegression(solver='liblinear', C=1.0, max_iter=1000)`\n",
    "* Use AUC to evaluate the model on validation\n",
    "\n",
    "How large is standard devidation of the scores across different folds?\n",
    "\n",
    "- 0.003\n",
    "- 0.030\n",
    "- 0.090\n",
    "- 0.140"
   ]
  },
  {
   "cell_type": "code",
   "execution_count": 61,
   "id": "a95eaab4-a8c9-42d0-b184-38ce6e9941d5",
   "metadata": {},
   "outputs": [],
   "source": [
    "from sklearn.model_selection import KFold\n",
    "from tqdm import tqdm"
   ]
  },
  {
   "cell_type": "code",
   "execution_count": 58,
   "id": "72da525e-6aa9-40b9-a990-74775eec4f26",
   "metadata": {},
   "outputs": [
    {
     "name": "stdout",
     "output_type": "stream",
     "text": [
      "0.979 +- 0.002\n"
     ]
    }
   ],
   "source": [
    "n_splits = 5\n",
    "\n",
    "kfold = KFold(n_splits=n_splits, shuffle=True, random_state=1)\n",
    "\n",
    "scores = []\n",
    "\n",
    "for train_idx, val_idx in kfold.split(df_full_train):\n",
    "    df_train = df_full_train.iloc[train_idx]\n",
    "    df_val = df_full_train.iloc[val_idx]\n",
    "\n",
    "    y_train = df_train.above_average.values\n",
    "    y_val = df_val.above_average.values\n",
    "\n",
    "    dv, model = train(df_train, y_train)\n",
    "    y_pred = predict(df_val, dv, model)\n",
    "\n",
    "    auc = roc_auc_score(y_val, y_pred)\n",
    "    scores.append(auc)\n",
    "\n",
    "print('%.3f +- %.3f' % (np.mean(scores), np.std(scores)))"
   ]
  },
  {
   "cell_type": "markdown",
   "id": "56f2a87a-e705-4aeb-9f21-6f0254e03da6",
   "metadata": {},
   "source": [
    "### Question 6: Hyperparemeter Tuning\n",
    "\n",
    "Now let's use 5-Fold cross-validation to find the best parameter `C`\n",
    "\n",
    "* Iterate over the following `C` values: `[0.01, 0.1, 0.5, 10]`\n",
    "* Initialize `KFold` with the same parameters as previously\n",
    "* Use these parametes for the model: `LogisticRegression(solver='liblinear', C=C, max_iter=1000)`\n",
    "* Compute the mean score as well as the std (round the mean and std to 3 decimal digits)\n",
    "\n",
    "Which `C` leads to the best mean score?\n",
    "\n",
    "- 0.01\n",
    "- 0.1\n",
    "- 0.5\n",
    "- 10\n",
    "\n",
    "If you have ties, select the score with the lowest std. If you still have ties, select the smallest `C`."
   ]
  },
  {
   "cell_type": "code",
   "execution_count": 63,
   "id": "86a7f229-5aef-49e1-9714-cf636d37be2c",
   "metadata": {},
   "outputs": [
    {
     "name": "stderr",
     "output_type": "stream",
     "text": [
      " 20%|██████████████████████████▍                                                                                                         | 1/5 [00:01<00:05,  1.39s/it]"
     ]
    },
    {
     "name": "stdout",
     "output_type": "stream",
     "text": [
      "C=0.01 0.952 +- 0.002\n"
     ]
    },
    {
     "name": "stderr",
     "output_type": "stream",
     "text": [
      " 40%|████████████████████████████████████████████████████▊                                                                               | 2/5 [00:02<00:03,  1.32s/it]"
     ]
    },
    {
     "name": "stdout",
     "output_type": "stream",
     "text": [
      "C=0.1 0.972 +- 0.002\n"
     ]
    },
    {
     "name": "stderr",
     "output_type": "stream",
     "text": [
      " 60%|███████████████████████████████████████████████████████████████████████████████▏                                                    | 3/5 [00:03<00:02,  1.30s/it]"
     ]
    },
    {
     "name": "stdout",
     "output_type": "stream",
     "text": [
      "C=0.1 0.972 +- 0.002\n"
     ]
    },
    {
     "name": "stderr",
     "output_type": "stream",
     "text": [
      " 80%|█████████████████████████████████████████████████████████████████████████████████████████████████████████▌                          | 4/5 [00:05<00:01,  1.30s/it]"
     ]
    },
    {
     "name": "stdout",
     "output_type": "stream",
     "text": [
      "C=0.5 0.980 +- 0.003\n"
     ]
    },
    {
     "name": "stderr",
     "output_type": "stream",
     "text": [
      "100%|████████████████████████████████████████████████████████████████████████████████████████████████████████████████████████████████████| 5/5 [00:06<00:00,  1.32s/it]"
     ]
    },
    {
     "name": "stdout",
     "output_type": "stream",
     "text": [
      "C=10 0.984 +- 0.003\n"
     ]
    },
    {
     "name": "stderr",
     "output_type": "stream",
     "text": [
      "\n"
     ]
    }
   ],
   "source": [
    "n_splits = 5\n",
    "\n",
    "for C in tqdm([0.01, 0.1, 0.1, 0.5, 10]):\n",
    "    kfold = KFold(n_splits=n_splits, shuffle=True, random_state=1)\n",
    "\n",
    "    scores = []\n",
    "\n",
    "    for train_idx, val_idx in kfold.split(df_full_train):\n",
    "        df_train = df_full_train.iloc[train_idx]\n",
    "        df_val = df_full_train.iloc[val_idx]\n",
    "\n",
    "        y_train = df_train.above_average.values\n",
    "        y_val = df_val.above_average.values\n",
    "\n",
    "        dv, model = train(df_train, y_train, C=C)\n",
    "        y_pred = predict(df_val, dv, model)\n",
    "\n",
    "        auc = roc_auc_score(y_val, y_pred)\n",
    "        scores.append(auc)\n",
    "\n",
    "    print('C=%s %.3f +- %.3f' % (C, np.mean(scores), np.std(scores)))"
   ]
  }
 ],
 "metadata": {
  "kernelspec": {
   "display_name": "Python 3 (ipykernel)",
   "language": "python",
   "name": "python3"
  },
  "language_info": {
   "codemirror_mode": {
    "name": "ipython",
    "version": 3
   },
   "file_extension": ".py",
   "mimetype": "text/x-python",
   "name": "python",
   "nbconvert_exporter": "python",
   "pygments_lexer": "ipython3",
   "version": "3.11.5"
  }
 },
 "nbformat": 4,
 "nbformat_minor": 5
}
